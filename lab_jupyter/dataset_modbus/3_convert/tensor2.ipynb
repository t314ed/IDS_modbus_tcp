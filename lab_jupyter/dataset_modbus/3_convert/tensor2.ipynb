{
 "cells": [
  {
   "cell_type": "markdown",
   "id": "9dbdbb34-2dc4-4b5d-b1be-70ce4de3def3",
   "metadata": {},
   "source": [
    "# Tensor flow MLP\n",
    "source : https://www.tensorflow.org/guide/core/mlp_core\n",
    "https://www.tensorflow.org/tutorials/quickstart/beginner?hl=fr"
   ]
  },
  {
   "cell_type": "code",
   "execution_count": 1,
   "id": "626a3967-a784-464a-9c5f-d6edc46617fe",
   "metadata": {},
   "outputs": [
    {
     "name": "stderr",
     "output_type": "stream",
     "text": [
      "2025-02-25 13:43:05.739993: E external/local_xla/xla/stream_executor/cuda/cuda_fft.cc:477] Unable to register cuFFT factory: Attempting to register factory for plugin cuFFT when one has already been registered\n",
      "WARNING: All log messages before absl::InitializeLog() is called are written to STDERR\n",
      "E0000 00:00:1740487385.853805    6110 cuda_dnn.cc:8310] Unable to register cuDNN factory: Attempting to register factory for plugin cuDNN when one has already been registered\n",
      "E0000 00:00:1740487385.886827    6110 cuda_blas.cc:1418] Unable to register cuBLAS factory: Attempting to register factory for plugin cuBLAS when one has already been registered\n",
      "2025-02-25 13:43:06.107580: I tensorflow/core/platform/cpu_feature_guard.cc:210] This TensorFlow binary is optimized to use available CPU instructions in performance-critical operations.\n",
      "To enable the following instructions: AVX2 FMA, in other operations, rebuild TensorFlow with the appropriate compiler flags.\n"
     ]
    }
   ],
   "source": [
    "import tensorflow as tf\n",
    "import pandas as pd\n",
    "import numpy as np\n",
    "from sklearn.model_selection import train_test_split\n",
    "from sklearn.preprocessing import StandardScaler"
   ]
  },
  {
   "cell_type": "code",
   "execution_count": 2,
   "id": "6b380235-1b22-4da7-b076-f4ade017002b",
   "metadata": {},
   "outputs": [],
   "source": [
    "train_data = pd.read_csv('../dataset_modbus/1_dataset/train_data.csv', sep=';')\n",
    "test_data = data = pd.read_csv('../dataset_modbus/1_dataset/test_data.csv', sep=';')"
   ]
  },
  {
   "cell_type": "code",
   "execution_count": 3,
   "id": "b9d12239-9643-4653-a799-afa7919e0cb2",
   "metadata": {},
   "outputs": [
    {
     "data": {
      "text/html": [
       "<div>\n",
       "<style scoped>\n",
       "    .dataframe tbody tr th:only-of-type {\n",
       "        vertical-align: middle;\n",
       "    }\n",
       "\n",
       "    .dataframe tbody tr th {\n",
       "        vertical-align: top;\n",
       "    }\n",
       "\n",
       "    .dataframe thead th {\n",
       "        text-align: right;\n",
       "    }\n",
       "</style>\n",
       "<table border=\"1\" class=\"dataframe\">\n",
       "  <thead>\n",
       "    <tr style=\"text-align: right;\">\n",
       "      <th></th>\n",
       "      <th>FIT101</th>\n",
       "      <th>LIT101</th>\n",
       "      <th>MV101</th>\n",
       "      <th>P101</th>\n",
       "      <th>P102</th>\n",
       "      <th>AIT201</th>\n",
       "      <th>AIT202</th>\n",
       "      <th>AIT203</th>\n",
       "      <th>FIT201</th>\n",
       "      <th>P201</th>\n",
       "      <th>...</th>\n",
       "      <th>FIT504</th>\n",
       "      <th>P502</th>\n",
       "      <th>PIT501</th>\n",
       "      <th>PIT502</th>\n",
       "      <th>PIT503</th>\n",
       "      <th>FIT601</th>\n",
       "      <th>P601</th>\n",
       "      <th>P602</th>\n",
       "      <th>P603</th>\n",
       "      <th>Normal/Attack</th>\n",
       "    </tr>\n",
       "  </thead>\n",
       "  <tbody>\n",
       "    <tr>\n",
       "      <th>0</th>\n",
       "      <td>2.467412</td>\n",
       "      <td>500.3549</td>\n",
       "      <td>2.0</td>\n",
       "      <td>2.0</td>\n",
       "      <td>1.0</td>\n",
       "      <td>263.2979</td>\n",
       "      <td>8.353179</td>\n",
       "      <td>330.2999</td>\n",
       "      <td>2.440265</td>\n",
       "      <td>1.0</td>\n",
       "      <td>...</td>\n",
       "      <td>0.306633</td>\n",
       "      <td>1.0</td>\n",
       "      <td>247.69290</td>\n",
       "      <td>1.778105</td>\n",
       "      <td>186.955300</td>\n",
       "      <td>1.737545</td>\n",
       "      <td>1.0</td>\n",
       "      <td>2.0</td>\n",
       "      <td>1.0</td>\n",
       "      <td>1.0</td>\n",
       "    </tr>\n",
       "    <tr>\n",
       "      <th>1</th>\n",
       "      <td>0.000000</td>\n",
       "      <td>498.8240</td>\n",
       "      <td>0.0</td>\n",
       "      <td>2.0</td>\n",
       "      <td>1.0</td>\n",
       "      <td>170.0205</td>\n",
       "      <td>8.620419</td>\n",
       "      <td>306.4086</td>\n",
       "      <td>2.462692</td>\n",
       "      <td>2.0</td>\n",
       "      <td>...</td>\n",
       "      <td>0.309772</td>\n",
       "      <td>1.0</td>\n",
       "      <td>247.66090</td>\n",
       "      <td>0.929100</td>\n",
       "      <td>185.753600</td>\n",
       "      <td>0.000000</td>\n",
       "      <td>1.0</td>\n",
       "      <td>1.0</td>\n",
       "      <td>1.0</td>\n",
       "      <td>1.0</td>\n",
       "    </tr>\n",
       "    <tr>\n",
       "      <th>2</th>\n",
       "      <td>0.000000</td>\n",
       "      <td>812.3358</td>\n",
       "      <td>1.0</td>\n",
       "      <td>1.0</td>\n",
       "      <td>1.0</td>\n",
       "      <td>192.9313</td>\n",
       "      <td>8.601192</td>\n",
       "      <td>348.1159</td>\n",
       "      <td>0.000000</td>\n",
       "      <td>1.0</td>\n",
       "      <td>...</td>\n",
       "      <td>0.000000</td>\n",
       "      <td>1.0</td>\n",
       "      <td>10.09357</td>\n",
       "      <td>0.000000</td>\n",
       "      <td>3.813125</td>\n",
       "      <td>0.000000</td>\n",
       "      <td>1.0</td>\n",
       "      <td>1.0</td>\n",
       "      <td>1.0</td>\n",
       "      <td>1.0</td>\n",
       "    </tr>\n",
       "    <tr>\n",
       "      <th>3</th>\n",
       "      <td>2.510009</td>\n",
       "      <td>786.4683</td>\n",
       "      <td>2.0</td>\n",
       "      <td>1.0</td>\n",
       "      <td>1.0</td>\n",
       "      <td>240.7716</td>\n",
       "      <td>8.485837</td>\n",
       "      <td>323.5324</td>\n",
       "      <td>0.000000</td>\n",
       "      <td>1.0</td>\n",
       "      <td>...</td>\n",
       "      <td>0.308298</td>\n",
       "      <td>1.0</td>\n",
       "      <td>248.99060</td>\n",
       "      <td>0.816967</td>\n",
       "      <td>187.772400</td>\n",
       "      <td>0.000000</td>\n",
       "      <td>1.0</td>\n",
       "      <td>1.0</td>\n",
       "      <td>1.0</td>\n",
       "      <td>0.0</td>\n",
       "    </tr>\n",
       "    <tr>\n",
       "      <th>4</th>\n",
       "      <td>0.000000</td>\n",
       "      <td>625.1002</td>\n",
       "      <td>1.0</td>\n",
       "      <td>2.0</td>\n",
       "      <td>1.0</td>\n",
       "      <td>263.1377</td>\n",
       "      <td>8.380095</td>\n",
       "      <td>331.2484</td>\n",
       "      <td>2.432704</td>\n",
       "      <td>1.0</td>\n",
       "      <td>...</td>\n",
       "      <td>0.306569</td>\n",
       "      <td>1.0</td>\n",
       "      <td>247.90120</td>\n",
       "      <td>1.105309</td>\n",
       "      <td>187.083400</td>\n",
       "      <td>0.000000</td>\n",
       "      <td>1.0</td>\n",
       "      <td>1.0</td>\n",
       "      <td>1.0</td>\n",
       "      <td>0.0</td>\n",
       "    </tr>\n",
       "  </tbody>\n",
       "</table>\n",
       "<p>5 rows × 47 columns</p>\n",
       "</div>"
      ],
      "text/plain": [
       "     FIT101    LIT101  MV101  P101  P102    AIT201    AIT202    AIT203  \\\n",
       "0  2.467412  500.3549    2.0   2.0   1.0  263.2979  8.353179  330.2999   \n",
       "1  0.000000  498.8240    0.0   2.0   1.0  170.0205  8.620419  306.4086   \n",
       "2  0.000000  812.3358    1.0   1.0   1.0  192.9313  8.601192  348.1159   \n",
       "3  2.510009  786.4683    2.0   1.0   1.0  240.7716  8.485837  323.5324   \n",
       "4  0.000000  625.1002    1.0   2.0   1.0  263.1377  8.380095  331.2484   \n",
       "\n",
       "     FIT201  P201  ...    FIT504  P502     PIT501    PIT502      PIT503  \\\n",
       "0  2.440265   1.0  ...  0.306633   1.0  247.69290  1.778105  186.955300   \n",
       "1  2.462692   2.0  ...  0.309772   1.0  247.66090  0.929100  185.753600   \n",
       "2  0.000000   1.0  ...  0.000000   1.0   10.09357  0.000000    3.813125   \n",
       "3  0.000000   1.0  ...  0.308298   1.0  248.99060  0.816967  187.772400   \n",
       "4  2.432704   1.0  ...  0.306569   1.0  247.90120  1.105309  187.083400   \n",
       "\n",
       "     FIT601  P601  P602  P603  Normal/Attack  \n",
       "0  1.737545   1.0   2.0   1.0            1.0  \n",
       "1  0.000000   1.0   1.0   1.0            1.0  \n",
       "2  0.000000   1.0   1.0   1.0            1.0  \n",
       "3  0.000000   1.0   1.0   1.0            0.0  \n",
       "4  0.000000   1.0   1.0   1.0            0.0  \n",
       "\n",
       "[5 rows x 47 columns]"
      ]
     },
     "execution_count": 3,
     "metadata": {},
     "output_type": "execute_result"
    }
   ],
   "source": [
    "train_data.head()"
   ]
  },
  {
   "cell_type": "code",
   "execution_count": 4,
   "id": "b640461c-82db-4f7c-81a3-7fd4d81afc76",
   "metadata": {},
   "outputs": [
    {
     "data": {
      "text/html": [
       "<div>\n",
       "<style scoped>\n",
       "    .dataframe tbody tr th:only-of-type {\n",
       "        vertical-align: middle;\n",
       "    }\n",
       "\n",
       "    .dataframe tbody tr th {\n",
       "        vertical-align: top;\n",
       "    }\n",
       "\n",
       "    .dataframe thead th {\n",
       "        text-align: right;\n",
       "    }\n",
       "</style>\n",
       "<table border=\"1\" class=\"dataframe\">\n",
       "  <thead>\n",
       "    <tr style=\"text-align: right;\">\n",
       "      <th></th>\n",
       "      <th>FIT101</th>\n",
       "      <th>LIT101</th>\n",
       "      <th>MV101</th>\n",
       "      <th>P101</th>\n",
       "      <th>P102</th>\n",
       "      <th>AIT201</th>\n",
       "      <th>AIT202</th>\n",
       "      <th>AIT203</th>\n",
       "      <th>FIT201</th>\n",
       "      <th>P201</th>\n",
       "      <th>...</th>\n",
       "      <th>FIT504</th>\n",
       "      <th>P502</th>\n",
       "      <th>PIT501</th>\n",
       "      <th>PIT502</th>\n",
       "      <th>PIT503</th>\n",
       "      <th>FIT601</th>\n",
       "      <th>P601</th>\n",
       "      <th>P602</th>\n",
       "      <th>P603</th>\n",
       "      <th>Normal/Attack</th>\n",
       "    </tr>\n",
       "  </thead>\n",
       "  <tbody>\n",
       "    <tr>\n",
       "      <th>0</th>\n",
       "      <td>2.606412</td>\n",
       "      <td>496.1548</td>\n",
       "      <td>2.0</td>\n",
       "      <td>2.0</td>\n",
       "      <td>1.0</td>\n",
       "      <td>190.4640</td>\n",
       "      <td>8.539028</td>\n",
       "      <td>325.5832</td>\n",
       "      <td>2.442060</td>\n",
       "      <td>1.0</td>\n",
       "      <td>...</td>\n",
       "      <td>0.308298</td>\n",
       "      <td>1.0</td>\n",
       "      <td>247.997300</td>\n",
       "      <td>0.816967</td>\n",
       "      <td>186.570800</td>\n",
       "      <td>0.000000</td>\n",
       "      <td>1.0</td>\n",
       "      <td>1.0</td>\n",
       "      <td>1.0</td>\n",
       "      <td>1.0</td>\n",
       "    </tr>\n",
       "    <tr>\n",
       "      <th>1</th>\n",
       "      <td>2.426416</td>\n",
       "      <td>500.5119</td>\n",
       "      <td>2.0</td>\n",
       "      <td>2.0</td>\n",
       "      <td>1.0</td>\n",
       "      <td>260.7665</td>\n",
       "      <td>8.329146</td>\n",
       "      <td>336.5804</td>\n",
       "      <td>2.445904</td>\n",
       "      <td>1.0</td>\n",
       "      <td>...</td>\n",
       "      <td>0.310604</td>\n",
       "      <td>1.0</td>\n",
       "      <td>255.527400</td>\n",
       "      <td>1.537821</td>\n",
       "      <td>194.309200</td>\n",
       "      <td>0.000128</td>\n",
       "      <td>1.0</td>\n",
       "      <td>1.0</td>\n",
       "      <td>1.0</td>\n",
       "      <td>0.0</td>\n",
       "    </tr>\n",
       "    <tr>\n",
       "      <th>2</th>\n",
       "      <td>2.612497</td>\n",
       "      <td>501.7680</td>\n",
       "      <td>2.0</td>\n",
       "      <td>2.0</td>\n",
       "      <td>1.0</td>\n",
       "      <td>176.1087</td>\n",
       "      <td>8.631634</td>\n",
       "      <td>301.7688</td>\n",
       "      <td>2.460257</td>\n",
       "      <td>1.0</td>\n",
       "      <td>...</td>\n",
       "      <td>0.306569</td>\n",
       "      <td>1.0</td>\n",
       "      <td>248.942600</td>\n",
       "      <td>1.025214</td>\n",
       "      <td>187.339800</td>\n",
       "      <td>0.000000</td>\n",
       "      <td>1.0</td>\n",
       "      <td>1.0</td>\n",
       "      <td>1.0</td>\n",
       "      <td>0.0</td>\n",
       "    </tr>\n",
       "    <tr>\n",
       "      <th>3</th>\n",
       "      <td>2.446274</td>\n",
       "      <td>516.6055</td>\n",
       "      <td>2.0</td>\n",
       "      <td>2.0</td>\n",
       "      <td>1.0</td>\n",
       "      <td>263.0095</td>\n",
       "      <td>8.336196</td>\n",
       "      <td>334.5552</td>\n",
       "      <td>2.449492</td>\n",
       "      <td>1.0</td>\n",
       "      <td>...</td>\n",
       "      <td>0.310861</td>\n",
       "      <td>1.0</td>\n",
       "      <td>256.168300</td>\n",
       "      <td>1.601897</td>\n",
       "      <td>194.934000</td>\n",
       "      <td>0.000128</td>\n",
       "      <td>1.0</td>\n",
       "      <td>1.0</td>\n",
       "      <td>1.0</td>\n",
       "      <td>0.0</td>\n",
       "    </tr>\n",
       "    <tr>\n",
       "      <th>4</th>\n",
       "      <td>0.000000</td>\n",
       "      <td>812.9639</td>\n",
       "      <td>1.0</td>\n",
       "      <td>1.0</td>\n",
       "      <td>1.0</td>\n",
       "      <td>198.1543</td>\n",
       "      <td>8.524929</td>\n",
       "      <td>370.1871</td>\n",
       "      <td>0.000000</td>\n",
       "      <td>1.0</td>\n",
       "      <td>...</td>\n",
       "      <td>0.000000</td>\n",
       "      <td>1.0</td>\n",
       "      <td>9.660984</td>\n",
       "      <td>0.000000</td>\n",
       "      <td>3.252371</td>\n",
       "      <td>0.000000</td>\n",
       "      <td>1.0</td>\n",
       "      <td>1.0</td>\n",
       "      <td>1.0</td>\n",
       "      <td>1.0</td>\n",
       "    </tr>\n",
       "  </tbody>\n",
       "</table>\n",
       "<p>5 rows × 47 columns</p>\n",
       "</div>"
      ],
      "text/plain": [
       "     FIT101    LIT101  MV101  P101  P102    AIT201    AIT202    AIT203  \\\n",
       "0  2.606412  496.1548    2.0   2.0   1.0  190.4640  8.539028  325.5832   \n",
       "1  2.426416  500.5119    2.0   2.0   1.0  260.7665  8.329146  336.5804   \n",
       "2  2.612497  501.7680    2.0   2.0   1.0  176.1087  8.631634  301.7688   \n",
       "3  2.446274  516.6055    2.0   2.0   1.0  263.0095  8.336196  334.5552   \n",
       "4  0.000000  812.9639    1.0   1.0   1.0  198.1543  8.524929  370.1871   \n",
       "\n",
       "     FIT201  P201  ...    FIT504  P502      PIT501    PIT502      PIT503  \\\n",
       "0  2.442060   1.0  ...  0.308298   1.0  247.997300  0.816967  186.570800   \n",
       "1  2.445904   1.0  ...  0.310604   1.0  255.527400  1.537821  194.309200   \n",
       "2  2.460257   1.0  ...  0.306569   1.0  248.942600  1.025214  187.339800   \n",
       "3  2.449492   1.0  ...  0.310861   1.0  256.168300  1.601897  194.934000   \n",
       "4  0.000000   1.0  ...  0.000000   1.0    9.660984  0.000000    3.252371   \n",
       "\n",
       "     FIT601  P601  P602  P603  Normal/Attack  \n",
       "0  0.000000   1.0   1.0   1.0            1.0  \n",
       "1  0.000128   1.0   1.0   1.0            0.0  \n",
       "2  0.000000   1.0   1.0   1.0            0.0  \n",
       "3  0.000128   1.0   1.0   1.0            0.0  \n",
       "4  0.000000   1.0   1.0   1.0            1.0  \n",
       "\n",
       "[5 rows x 47 columns]"
      ]
     },
     "execution_count": 4,
     "metadata": {},
     "output_type": "execute_result"
    }
   ],
   "source": [
    "test_data.head()"
   ]
  },
  {
   "cell_type": "code",
   "execution_count": 5,
   "id": "51f409f6-10be-4f3e-845f-c237dcc6a101",
   "metadata": {},
   "outputs": [
    {
     "name": "stdout",
     "output_type": "stream",
     "text": [
      "(87364, 46)\n",
      "(87364,)\n"
     ]
    }
   ],
   "source": [
    "# Sépararion x_train , y_train\n",
    "x_train, y_train = train_data.drop(columns=['Normal/Attack']), train_data['Normal/Attack']\n",
    "print(x_train.shape)\n",
    "print(y_train.shape)"
   ]
  },
  {
   "cell_type": "code",
   "execution_count": 7,
   "id": "e8f4fc4e-27b2-4901-90cd-07999b5ad48d",
   "metadata": {},
   "outputs": [],
   "source": [
    "# forcer l'utilisation du CPU\n",
    "import os\n",
    "os.environ[\"CUDA_VISIBLE_DEVICES\"] = \"-1\" \n"
   ]
  },
  {
   "cell_type": "code",
   "execution_count": 8,
   "id": "963b2395-6aef-41ac-a790-1c5fb3b44216",
   "metadata": {},
   "outputs": [
    {
     "name": "stderr",
     "output_type": "stream",
     "text": [
      "/home/telly/anaconda3/lib/python3.12/site-packages/keras/src/layers/core/dense.py:87: UserWarning: Do not pass an `input_shape`/`input_dim` argument to a layer. When using Sequential models, prefer using an `Input(shape)` object as the first layer in the model instead.\n",
      "  super().__init__(activity_regularizer=activity_regularizer, **kwargs)\n",
      "2025-02-25 13:45:12.623308: E external/local_xla/xla/stream_executor/cuda/cuda_driver.cc:152] failed call to cuInit: INTERNAL: CUDA error: Failed call to cuInit: CUDA_ERROR_NO_DEVICE: no CUDA-capable device is detected\n"
     ]
    }
   ],
   "source": [
    "model = tf.keras.Sequential([\n",
    "    tf.keras.layers.Dense(64, activation='relu', input_shape=(x_train.shape[1],)),\n",
    "    tf.keras.layers.Dense(64, activation='relu'),\n",
    "    tf.keras.layers.Dense(64, activation='relu'),\n",
    "    tf.keras.layers.Dense(1, activation='sigmoid') # classification binaire\n",
    "])"
   ]
  },
  {
   "cell_type": "code",
   "execution_count": 9,
   "id": "fbe350a3-8184-429b-916e-c311f91f3bef",
   "metadata": {},
   "outputs": [
    {
     "data": {
      "text/html": [
       "<pre style=\"white-space:pre;overflow-x:auto;line-height:normal;font-family:Menlo,'DejaVu Sans Mono',consolas,'Courier New',monospace\"><span style=\"font-weight: bold\">Model: \"sequential\"</span>\n",
       "</pre>\n"
      ],
      "text/plain": [
       "\u001b[1mModel: \"sequential\"\u001b[0m\n"
      ]
     },
     "metadata": {},
     "output_type": "display_data"
    },
    {
     "data": {
      "text/html": [
       "<pre style=\"white-space:pre;overflow-x:auto;line-height:normal;font-family:Menlo,'DejaVu Sans Mono',consolas,'Courier New',monospace\">┏━━━━━━━━━━━━━━━━━━━━━━━━━━━━━━━━━┳━━━━━━━━━━━━━━━━━━━━━━━━┳━━━━━━━━━━━━━━━┓\n",
       "┃<span style=\"font-weight: bold\"> Layer (type)                    </span>┃<span style=\"font-weight: bold\"> Output Shape           </span>┃<span style=\"font-weight: bold\">       Param # </span>┃\n",
       "┡━━━━━━━━━━━━━━━━━━━━━━━━━━━━━━━━━╇━━━━━━━━━━━━━━━━━━━━━━━━╇━━━━━━━━━━━━━━━┩\n",
       "│ dense (<span style=\"color: #0087ff; text-decoration-color: #0087ff\">Dense</span>)                   │ (<span style=\"color: #00d7ff; text-decoration-color: #00d7ff\">None</span>, <span style=\"color: #00af00; text-decoration-color: #00af00\">64</span>)             │         <span style=\"color: #00af00; text-decoration-color: #00af00\">3,008</span> │\n",
       "├─────────────────────────────────┼────────────────────────┼───────────────┤\n",
       "│ dense_1 (<span style=\"color: #0087ff; text-decoration-color: #0087ff\">Dense</span>)                 │ (<span style=\"color: #00d7ff; text-decoration-color: #00d7ff\">None</span>, <span style=\"color: #00af00; text-decoration-color: #00af00\">64</span>)             │         <span style=\"color: #00af00; text-decoration-color: #00af00\">4,160</span> │\n",
       "├─────────────────────────────────┼────────────────────────┼───────────────┤\n",
       "│ dense_2 (<span style=\"color: #0087ff; text-decoration-color: #0087ff\">Dense</span>)                 │ (<span style=\"color: #00d7ff; text-decoration-color: #00d7ff\">None</span>, <span style=\"color: #00af00; text-decoration-color: #00af00\">64</span>)             │         <span style=\"color: #00af00; text-decoration-color: #00af00\">4,160</span> │\n",
       "├─────────────────────────────────┼────────────────────────┼───────────────┤\n",
       "│ dense_3 (<span style=\"color: #0087ff; text-decoration-color: #0087ff\">Dense</span>)                 │ (<span style=\"color: #00d7ff; text-decoration-color: #00d7ff\">None</span>, <span style=\"color: #00af00; text-decoration-color: #00af00\">1</span>)              │            <span style=\"color: #00af00; text-decoration-color: #00af00\">65</span> │\n",
       "└─────────────────────────────────┴────────────────────────┴───────────────┘\n",
       "</pre>\n"
      ],
      "text/plain": [
       "┏━━━━━━━━━━━━━━━━━━━━━━━━━━━━━━━━━┳━━━━━━━━━━━━━━━━━━━━━━━━┳━━━━━━━━━━━━━━━┓\n",
       "┃\u001b[1m \u001b[0m\u001b[1mLayer (type)                   \u001b[0m\u001b[1m \u001b[0m┃\u001b[1m \u001b[0m\u001b[1mOutput Shape          \u001b[0m\u001b[1m \u001b[0m┃\u001b[1m \u001b[0m\u001b[1m      Param #\u001b[0m\u001b[1m \u001b[0m┃\n",
       "┡━━━━━━━━━━━━━━━━━━━━━━━━━━━━━━━━━╇━━━━━━━━━━━━━━━━━━━━━━━━╇━━━━━━━━━━━━━━━┩\n",
       "│ dense (\u001b[38;5;33mDense\u001b[0m)                   │ (\u001b[38;5;45mNone\u001b[0m, \u001b[38;5;34m64\u001b[0m)             │         \u001b[38;5;34m3,008\u001b[0m │\n",
       "├─────────────────────────────────┼────────────────────────┼───────────────┤\n",
       "│ dense_1 (\u001b[38;5;33mDense\u001b[0m)                 │ (\u001b[38;5;45mNone\u001b[0m, \u001b[38;5;34m64\u001b[0m)             │         \u001b[38;5;34m4,160\u001b[0m │\n",
       "├─────────────────────────────────┼────────────────────────┼───────────────┤\n",
       "│ dense_2 (\u001b[38;5;33mDense\u001b[0m)                 │ (\u001b[38;5;45mNone\u001b[0m, \u001b[38;5;34m64\u001b[0m)             │         \u001b[38;5;34m4,160\u001b[0m │\n",
       "├─────────────────────────────────┼────────────────────────┼───────────────┤\n",
       "│ dense_3 (\u001b[38;5;33mDense\u001b[0m)                 │ (\u001b[38;5;45mNone\u001b[0m, \u001b[38;5;34m1\u001b[0m)              │            \u001b[38;5;34m65\u001b[0m │\n",
       "└─────────────────────────────────┴────────────────────────┴───────────────┘\n"
      ]
     },
     "metadata": {},
     "output_type": "display_data"
    },
    {
     "data": {
      "text/html": [
       "<pre style=\"white-space:pre;overflow-x:auto;line-height:normal;font-family:Menlo,'DejaVu Sans Mono',consolas,'Courier New',monospace\"><span style=\"font-weight: bold\"> Total params: </span><span style=\"color: #00af00; text-decoration-color: #00af00\">11,393</span> (44.50 KB)\n",
       "</pre>\n"
      ],
      "text/plain": [
       "\u001b[1m Total params: \u001b[0m\u001b[38;5;34m11,393\u001b[0m (44.50 KB)\n"
      ]
     },
     "metadata": {},
     "output_type": "display_data"
    },
    {
     "data": {
      "text/html": [
       "<pre style=\"white-space:pre;overflow-x:auto;line-height:normal;font-family:Menlo,'DejaVu Sans Mono',consolas,'Courier New',monospace\"><span style=\"font-weight: bold\"> Trainable params: </span><span style=\"color: #00af00; text-decoration-color: #00af00\">11,393</span> (44.50 KB)\n",
       "</pre>\n"
      ],
      "text/plain": [
       "\u001b[1m Trainable params: \u001b[0m\u001b[38;5;34m11,393\u001b[0m (44.50 KB)\n"
      ]
     },
     "metadata": {},
     "output_type": "display_data"
    },
    {
     "data": {
      "text/html": [
       "<pre style=\"white-space:pre;overflow-x:auto;line-height:normal;font-family:Menlo,'DejaVu Sans Mono',consolas,'Courier New',monospace\"><span style=\"font-weight: bold\"> Non-trainable params: </span><span style=\"color: #00af00; text-decoration-color: #00af00\">0</span> (0.00 B)\n",
       "</pre>\n"
      ],
      "text/plain": [
       "\u001b[1m Non-trainable params: \u001b[0m\u001b[38;5;34m0\u001b[0m (0.00 B)\n"
      ]
     },
     "metadata": {},
     "output_type": "display_data"
    }
   ],
   "source": [
    "\n",
    "model.compile(optimizer='adam',\n",
    "              loss='binary_crossentropy',\n",
    "              metrics=['accuracy'])\n",
    "\n",
    "# Afficher \n",
    "model.summary()"
   ]
  },
  {
   "cell_type": "code",
   "execution_count": 10,
   "id": "7296de8b-042d-4861-b67f-7770cc4b94ca",
   "metadata": {},
   "outputs": [
    {
     "name": "stdout",
     "output_type": "stream",
     "text": [
      "(21841, 46)\n",
      "(21841,)\n"
     ]
    }
   ],
   "source": [
    "# Sépararion x_test , y_test\n",
    "x_test, y_test = test_data.drop(columns=['Normal/Attack']), test_data['Normal/Attack']\n",
    "print(x_test.shape)\n",
    "print(y_test.shape)"
   ]
  },
  {
   "cell_type": "code",
   "execution_count": 11,
   "id": "ca8d430b-7052-4ce4-9dc9-7504ecc8a184",
   "metadata": {},
   "outputs": [
    {
     "name": "stdout",
     "output_type": "stream",
     "text": [
      "Epoch 1/10\n",
      "\u001b[1m2731/2731\u001b[0m \u001b[32m━━━━━━━━━━━━━━━━━━━━\u001b[0m\u001b[37m\u001b[0m \u001b[1m10s\u001b[0m 3ms/step - accuracy: 0.8325 - loss: 0.7201\n",
      "Epoch 2/10\n",
      "\u001b[1m2731/2731\u001b[0m \u001b[32m━━━━━━━━━━━━━━━━━━━━\u001b[0m\u001b[37m\u001b[0m \u001b[1m7s\u001b[0m 3ms/step - accuracy: 0.8934 - loss: 0.2443\n",
      "Epoch 3/10\n",
      "\u001b[1m2731/2731\u001b[0m \u001b[32m━━━━━━━━━━━━━━━━━━━━\u001b[0m\u001b[37m\u001b[0m \u001b[1m7s\u001b[0m 3ms/step - accuracy: 0.9051 - loss: 0.2133\n",
      "Epoch 4/10\n",
      "\u001b[1m2731/2731\u001b[0m \u001b[32m━━━━━━━━━━━━━━━━━━━━\u001b[0m\u001b[37m\u001b[0m \u001b[1m8s\u001b[0m 3ms/step - accuracy: 0.9165 - loss: 0.1885\n",
      "Epoch 5/10\n",
      "\u001b[1m2731/2731\u001b[0m \u001b[32m━━━━━━━━━━━━━━━━━━━━\u001b[0m\u001b[37m\u001b[0m \u001b[1m7s\u001b[0m 3ms/step - accuracy: 0.9242 - loss: 0.1738\n",
      "Epoch 6/10\n",
      "\u001b[1m2731/2731\u001b[0m \u001b[32m━━━━━━━━━━━━━━━━━━━━\u001b[0m\u001b[37m\u001b[0m \u001b[1m7s\u001b[0m 3ms/step - accuracy: 0.9363 - loss: 0.1492\n",
      "Epoch 7/10\n",
      "\u001b[1m2731/2731\u001b[0m \u001b[32m━━━━━━━━━━━━━━━━━━━━\u001b[0m\u001b[37m\u001b[0m \u001b[1m7s\u001b[0m 3ms/step - accuracy: 0.9343 - loss: 0.1515\n",
      "Epoch 8/10\n",
      "\u001b[1m2731/2731\u001b[0m \u001b[32m━━━━━━━━━━━━━━━━━━━━\u001b[0m\u001b[37m\u001b[0m \u001b[1m7s\u001b[0m 3ms/step - accuracy: 0.9409 - loss: 0.1326\n",
      "Epoch 9/10\n",
      "\u001b[1m2731/2731\u001b[0m \u001b[32m━━━━━━━━━━━━━━━━━━━━\u001b[0m\u001b[37m\u001b[0m \u001b[1m7s\u001b[0m 3ms/step - accuracy: 0.9433 - loss: 0.1293\n",
      "Epoch 10/10\n",
      "\u001b[1m2731/2731\u001b[0m \u001b[32m━━━━━━━━━━━━━━━━━━━━\u001b[0m\u001b[37m\u001b[0m \u001b[1m7s\u001b[0m 3ms/step - accuracy: 0.9460 - loss: 0.1215\n",
      "\u001b[1m683/683\u001b[0m \u001b[32m━━━━━━━━━━━━━━━━━━━━\u001b[0m\u001b[37m\u001b[0m \u001b[1m2s\u001b[0m 2ms/step - accuracy: 0.9508 - loss: 0.1047\n",
      "Test Accuracy: 0.94991 , Loss : 0.10633\n"
     ]
    }
   ],
   "source": [
    "# Entrainnement\n",
    "model.fit(x_train, y_train, epochs=10)\n",
    "\n",
    "#evaluer le model\n",
    "loss, accuracy = model.evaluate(x_test, y_test)\n",
    "print(f'Test Accuracy: {accuracy:.5f} , Loss : {loss:.5f}')"
   ]
  },
  {
   "cell_type": "markdown",
   "id": "2c8ff02b-78de-4fa9-b65b-559977786144",
   "metadata": {},
   "source": [
    "# Tensorflow Logistic regression\n",
    "source : \n",
    "https://www.tensorflow.org/guide/core/logistic_regression_core"
   ]
  },
  {
   "cell_type": "code",
   "execution_count": 12,
   "id": "4a03d4a3-c859-42f6-bd54-5a2c452bfae6",
   "metadata": {},
   "outputs": [],
   "source": [
    "# Convertir en tensor\n",
    "x_train_tensor, y_train_tensor = tf.convert_to_tensor(x_train, dtype=tf.float32), tf.convert_to_tensor(y_train, dtype=tf.float32)\n",
    "x_test_tensor, y_test_tensor = tf.convert_to_tensor(x_test, dtype=tf.float32), tf.convert_to_tensor(y_test, dtype=tf.float32)"
   ]
  },
  {
   "cell_type": "code",
   "execution_count": 13,
   "id": "1aa14210-24cb-4d08-a7ad-fdf32fa56a12",
   "metadata": {},
   "outputs": [],
   "source": [
    "# model "
   ]
  },
  {
   "cell_type": "code",
   "execution_count": 20,
   "id": "64c32c65-a9b9-4a5e-b716-a3de3b91442d",
   "metadata": {},
   "outputs": [
    {
     "data": {
      "text/plain": [
       "['FIT101',\n",
       " 'LIT101',\n",
       " 'MV101',\n",
       " 'P101',\n",
       " 'P102',\n",
       " 'AIT201',\n",
       " 'AIT202',\n",
       " 'AIT203',\n",
       " 'FIT201',\n",
       " 'P201',\n",
       " 'P202',\n",
       " 'P204',\n",
       " 'P205',\n",
       " 'DPIT301',\n",
       " 'FIT301',\n",
       " 'LIT301',\n",
       " 'MV301',\n",
       " 'MV302',\n",
       " 'MV303',\n",
       " 'MV304',\n",
       " 'P301',\n",
       " 'P302',\n",
       " 'AIT401',\n",
       " 'AIT402',\n",
       " 'FIT401',\n",
       " 'LIT401',\n",
       " 'P401',\n",
       " 'P402',\n",
       " 'P403',\n",
       " 'P404',\n",
       " 'AIT501',\n",
       " 'AIT502',\n",
       " 'AIT503',\n",
       " 'AIT504',\n",
       " 'FIT501',\n",
       " 'FIT502',\n",
       " 'FIT503',\n",
       " 'FIT504',\n",
       " 'P502',\n",
       " 'PIT501',\n",
       " 'PIT502',\n",
       " 'PIT503',\n",
       " 'FIT601',\n",
       " 'P601',\n",
       " 'P602',\n",
       " 'P603',\n",
       " 'Normal/Attack']"
      ]
     },
     "execution_count": 20,
     "metadata": {},
     "output_type": "execute_result"
    }
   ],
   "source": [
    "train_data.columns.tolist()"
   ]
  },
  {
   "cell_type": "code",
   "execution_count": null,
   "id": "b2c47359-985b-4807-aed5-ba50e1464330",
   "metadata": {},
   "outputs": [],
   "source": []
  },
  {
   "cell_type": "code",
   "execution_count": null,
   "id": "07ced332-6113-4f11-bc82-0cb61039ea38",
   "metadata": {},
   "outputs": [],
   "source": []
  },
  {
   "cell_type": "code",
   "execution_count": 14,
   "id": "8f8f6f4e-bcbd-47e1-ad3b-1588ea8af2c3",
   "metadata": {},
   "outputs": [
    {
     "name": "stdout",
     "output_type": "stream",
     "text": [
      "INFO:tensorflow:Assets written to: /tmp/tmpoyknm7py/assets\n"
     ]
    },
    {
     "name": "stderr",
     "output_type": "stream",
     "text": [
      "INFO:tensorflow:Assets written to: /tmp/tmpoyknm7py/assets\n"
     ]
    },
    {
     "name": "stdout",
     "output_type": "stream",
     "text": [
      "Saved artifact at '/tmp/tmpoyknm7py'. The following endpoints are available:\n",
      "\n",
      "* Endpoint 'serve'\n",
      "  args_0 (POSITIONAL_ONLY): TensorSpec(shape=(None, 46), dtype=tf.float32, name='keras_tensor')\n",
      "Output Type:\n",
      "  TensorSpec(shape=(None, 1), dtype=tf.float32, name=None)\n",
      "Captures:\n",
      "  124114268711888: TensorSpec(shape=(), dtype=tf.resource, name=None)\n",
      "  124114268715920: TensorSpec(shape=(), dtype=tf.resource, name=None)\n",
      "  124114268715152: TensorSpec(shape=(), dtype=tf.resource, name=None)\n",
      "  124114268716880: TensorSpec(shape=(), dtype=tf.resource, name=None)\n",
      "  124114268716496: TensorSpec(shape=(), dtype=tf.resource, name=None)\n",
      "  124114268714960: TensorSpec(shape=(), dtype=tf.resource, name=None)\n",
      "  124114268713232: TensorSpec(shape=(), dtype=tf.resource, name=None)\n",
      "  124114268716304: TensorSpec(shape=(), dtype=tf.resource, name=None)\n"
     ]
    },
    {
     "name": "stderr",
     "output_type": "stream",
     "text": [
      "WARNING: All log messages before absl::InitializeLog() is called are written to STDERR\n",
      "W0000 00:00:1740487594.415161    6110 tf_tfl_flatbuffer_helpers.cc:365] Ignored output_format.\n",
      "W0000 00:00:1740487594.415208    6110 tf_tfl_flatbuffer_helpers.cc:368] Ignored drop_control_dependency.\n",
      "2025-02-25 13:46:34.415987: I tensorflow/cc/saved_model/reader.cc:83] Reading SavedModel from: /tmp/tmpoyknm7py\n",
      "2025-02-25 13:46:34.417170: I tensorflow/cc/saved_model/reader.cc:52] Reading meta graph with tags { serve }\n",
      "2025-02-25 13:46:34.417193: I tensorflow/cc/saved_model/reader.cc:147] Reading SavedModel debug info (if present) from: /tmp/tmpoyknm7py\n",
      "I0000 00:00:1740487594.426269    6110 mlir_graph_optimization_pass.cc:401] MLIR V1 optimization pass is not enabled\n",
      "2025-02-25 13:46:34.428167: I tensorflow/cc/saved_model/loader.cc:236] Restoring SavedModel bundle.\n",
      "2025-02-25 13:46:34.486530: I tensorflow/cc/saved_model/loader.cc:220] Running initialization op on SavedModel bundle at path: /tmp/tmpoyknm7py\n",
      "2025-02-25 13:46:34.505093: I tensorflow/cc/saved_model/loader.cc:466] SavedModel load for tags { serve }; Status: success: OK. Took 89113 microseconds.\n",
      "2025-02-25 13:46:34.543661: I tensorflow/compiler/mlir/tensorflow/utils/dump_mlir_util.cc:268] disabling MLIR crash reproducer, set env var `MLIR_CRASH_REPRODUCER_DIRECTORY` to enable.\n"
     ]
    }
   ],
   "source": [
    "# Convertir le modèle en TensorFlow Lite\n",
    "converter = tf.lite.TFLiteConverter.from_keras_model(model)\n",
    "tflite_model = converter.convert()\n",
    "\n",
    "# Sauvegarder le modèle TensorFlow Lite\n",
    "with open('ML3_64.tflite', 'wb') as f:\n",
    "    f.write(tflite_model)"
   ]
  },
  {
   "cell_type": "code",
   "execution_count": null,
   "id": "2b5e6220-8907-47e6-b2f8-8374f7516767",
   "metadata": {},
   "outputs": [],
   "source": []
  }
 ],
 "metadata": {
  "kernelspec": {
   "display_name": "Python 3.8.10 (mypython3_8_10)",
   "language": "python",
   "name": "mypython3_8_10"
  },
  "language_info": {
   "codemirror_mode": {
    "name": "ipython",
    "version": 3
   },
   "file_extension": ".py",
   "mimetype": "text/x-python",
   "name": "python",
   "nbconvert_exporter": "python",
   "pygments_lexer": "ipython3",
   "version": "3.12.7"
  }
 },
 "nbformat": 4,
 "nbformat_minor": 5
}
