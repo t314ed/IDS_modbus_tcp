{
 "cells": [
  {
   "cell_type": "markdown",
   "metadata": {},
   "source": [
    "# Lecture Dataset"
   ]
  },
  {
   "cell_type": "markdown",
   "metadata": {},
   "source": [
    "Dépot git des travaux effectués sur les datasets SWAT & WADI : https://github.com/elisejiuqizhang/USAD-on-WADI-and-SWaT\n",
    "\n",
    "Lien de telechargement datasets : \n",
    "\n",
    "    SWAT : \n",
    "    - normal : https://drive.google.com/file/d/1rVJ5ry5GG-ZZi5yI4x9lICB8VhErXwCw/view\n",
    "    - attack : https://drive.google.com/open?id=1iDYc0OEmidN712fquOBRFjln90SbpaE7\n",
    "Version Python utilisé : python 3.8.10\n",
    "\n",
    "Les version des bibliothèques utilisées se trouvent dans le fichier `Requirements/requirement_0.txt` ou `Requirements/requirement_1.txt` . \n",
    "\n",
    "Travaux de références : UNSW-NB15\n",
    "Source : https://github.com/SubrataMaji/IDS-UNSW-NB15/tree/master\n"
   ]
  },
  {
   "cell_type": "code",
   "execution_count": 22,
   "metadata": {},
   "outputs": [],
   "source": [
    "import pandas as pd\n",
    "import numpy as np\n",
    "import matplotlib.pyplot as plt\n",
    "import torch\n",
    "import seaborn as sns\n",
    "from sklearn.model_selection import train_test_split\n"
   ]
  },
  {
   "cell_type": "markdown",
   "metadata": {},
   "source": [
    "# 1. Read data"
   ]
  },
  {
   "cell_type": "code",
   "execution_count": 23,
   "metadata": {},
   "outputs": [
    {
     "name": "stdout",
     "output_type": "stream",
     "text": [
      "\u001b[01;34m../data\u001b[0m\n",
      "├── SWaT_Dataset_Attack_v0.csv\n",
      "└── SWaT_Dataset_Normal_v1.csv\n",
      "\n",
      "0 directories, 2 files\n"
     ]
    }
   ],
   "source": [
    "! tree ../data"
   ]
  },
  {
   "cell_type": "markdown",
   "metadata": {},
   "source": [
    "## - Normal"
   ]
  },
  {
   "cell_type": "markdown",
   "metadata": {},
   "source": [
    "Récuperation des données du dataset sans attaques."
   ]
  },
  {
   "cell_type": "code",
   "execution_count": 24,
   "metadata": {},
   "outputs": [
    {
     "data": {
      "text/plain": [
       "(495000, 52)"
      ]
     },
     "execution_count": 24,
     "metadata": {},
     "output_type": "execute_result"
    }
   ],
   "source": [
    "\n",
    "normal = pd.read_csv(\"../data/SWaT_Dataset_Normal_v1.csv\",sep = \",\",low_memory=False)\n",
    "# suppression de la colonne Timestamp\n",
    "normal = normal.drop([\"Timestamp\"] , axis = 1)\n",
    "normal.shape"
   ]
  },
  {
   "cell_type": "code",
   "execution_count": 25,
   "metadata": {},
   "outputs": [
    {
     "data": {
      "text/plain": [
       "'\\n#source git\\n\\n# Transform all columns into float64\\nfor i in list(normal): \\n    if i not in [\"Normal/Attack\", \"Timestamp\"]:\\n        normal[i]=normal[i].apply(lambda x: str(x).replace(\",\" , \".\"))\\n#normal = normal.astype(float)\\ncols_to_convert = normal.columns.difference([\"Normal/Attack\"])  # Exclure la colonne \"Normal/Attack\"\\nnormal[cols_to_convert] = normal[cols_to_convert].astype(float)\\n'"
      ]
     },
     "execution_count": 25,
     "metadata": {},
     "output_type": "execute_result"
    }
   ],
   "source": [
    "\"\"\"\n",
    "#source git\n",
    "\n",
    "# Transform all columns into float64\n",
    "for i in list(normal): \n",
    "    if i not in [\"Normal/Attack\", \"Timestamp\"]:\n",
    "        normal[i]=normal[i].apply(lambda x: str(x).replace(\",\" , \".\"))\n",
    "#normal = normal.astype(float)\n",
    "cols_to_convert = normal.columns.difference([\"Normal/Attack\"])  # Exclure la colonne \"Normal/Attack\"\n",
    "normal[cols_to_convert] = normal[cols_to_convert].astype(float)\n",
    "\"\"\""
   ]
  },
  {
   "cell_type": "code",
   "execution_count": 26,
   "metadata": {},
   "outputs": [
    {
     "data": {
      "text/plain": [
       "(  FIT101    LIT101  MV101  P101  P102    AIT201    AIT202    AIT203 FIT201  \\\n",
       " 0      0  124,3135      1     1     1  251,9226  8,313446  312,7916      0   \n",
       " 1      0   124,392      1     1     1  251,9226  8,313446  312,7916      0   \n",
       " 2      0  124,4705      1     1     1  251,9226  8,313446  312,7916      0   \n",
       " 3      0  124,6668      1     1     1  251,9226  8,313446  312,7916      0   \n",
       " 4      0  124,5098      1     1     1  251,9226  8,313446  312,7916      0   \n",
       " \n",
       "    MV201  ...  P501  P502    PIT501  PIT502  PIT503        FIT601 P601 P602  \\\n",
       " 0      1  ...     1     1  9,100231       0  3,3485  0,0002563035    1    1   \n",
       " 1      1  ...     1     1  9,100231       0  3,3485  0,0002563035    1    1   \n",
       " 2      1  ...     1     1  9,100231       0  3,3485  0,0002563035    1    1   \n",
       " 3      1  ...     1     1  9,100231       0  3,3485  0,0002563035    1    1   \n",
       " 4      1  ...     1     1  9,100231       0  3,3485  0,0002563035    1    1   \n",
       " \n",
       "   P603  Normal/Attack  \n",
       " 0    1         Normal  \n",
       " 1    1         Normal  \n",
       " 2    1         Normal  \n",
       " 3    1         Normal  \n",
       " 4    1         Normal  \n",
       " \n",
       " [5 rows x 52 columns],\n",
       " ['FIT101',\n",
       "  'LIT101',\n",
       "  'MV101',\n",
       "  'P101',\n",
       "  'P102',\n",
       "  'AIT201',\n",
       "  'AIT202',\n",
       "  'AIT203',\n",
       "  'FIT201',\n",
       "  'MV201',\n",
       "  'P201',\n",
       "  'P202',\n",
       "  'P203',\n",
       "  'P204',\n",
       "  'P205',\n",
       "  'P206',\n",
       "  'DPIT301',\n",
       "  'FIT301',\n",
       "  'LIT301',\n",
       "  'MV301',\n",
       "  'MV302',\n",
       "  'MV303',\n",
       "  'MV304',\n",
       "  'P301',\n",
       "  'P302',\n",
       "  'AIT401',\n",
       "  'AIT402',\n",
       "  'FIT401',\n",
       "  'LIT401',\n",
       "  'P401',\n",
       "  'P402',\n",
       "  'P403',\n",
       "  'P404',\n",
       "  'UV401',\n",
       "  'AIT501',\n",
       "  'AIT502',\n",
       "  'AIT503',\n",
       "  'AIT504',\n",
       "  'FIT501',\n",
       "  'FIT502',\n",
       "  'FIT503',\n",
       "  'FIT504',\n",
       "  'P501',\n",
       "  'P502',\n",
       "  'PIT501',\n",
       "  'PIT502',\n",
       "  'PIT503',\n",
       "  'FIT601',\n",
       "  'P601',\n",
       "  'P602',\n",
       "  'P603',\n",
       "  'Normal/Attack'])"
      ]
     },
     "execution_count": 26,
     "metadata": {},
     "output_type": "execute_result"
    }
   ],
   "source": [
    "normal.head(), normal.columns.tolist()"
   ]
  },
  {
   "cell_type": "code",
   "execution_count": 27,
   "metadata": {
    "scrolled": true
   },
   "outputs": [
    {
     "name": "stdout",
     "output_type": "stream",
     "text": [
      "<class 'pandas.core.frame.DataFrame'>\n",
      "RangeIndex: 495000 entries, 0 to 494999\n",
      "Data columns (total 52 columns):\n",
      " #   Column         Non-Null Count   Dtype \n",
      "---  ------         --------------   ----- \n",
      " 0   FIT101         495000 non-null  object\n",
      " 1   LIT101         495000 non-null  object\n",
      " 2   MV101          495000 non-null  int64 \n",
      " 3   P101           495000 non-null  int64 \n",
      " 4   P102           495000 non-null  int64 \n",
      " 5   AIT201         495000 non-null  object\n",
      " 6   AIT202         495000 non-null  object\n",
      " 7   AIT203         495000 non-null  object\n",
      " 8   FIT201         495000 non-null  object\n",
      " 9   MV201          495000 non-null  int64 \n",
      " 10  P201           495000 non-null  int64 \n",
      " 11  P202           495000 non-null  int64 \n",
      " 12  P203           495000 non-null  int64 \n",
      " 13  P204           495000 non-null  int64 \n",
      " 14  P205           495000 non-null  int64 \n",
      " 15  P206           495000 non-null  int64 \n",
      " 16  DPIT301        495000 non-null  object\n",
      " 17  FIT301         495000 non-null  object\n",
      " 18  LIT301         495000 non-null  object\n",
      " 19  MV301          495000 non-null  int64 \n",
      " 20  MV302          495000 non-null  int64 \n",
      " 21  MV303          495000 non-null  int64 \n",
      " 22  MV304          495000 non-null  int64 \n",
      " 23  P301           495000 non-null  int64 \n",
      " 24  P302           495000 non-null  int64 \n",
      " 25  AIT401         495000 non-null  object\n",
      " 26  AIT402         495000 non-null  object\n",
      " 27  FIT401         495000 non-null  object\n",
      " 28  LIT401         495000 non-null  object\n",
      " 29  P401           495000 non-null  int64 \n",
      " 30  P402           495000 non-null  int64 \n",
      " 31  P403           495000 non-null  int64 \n",
      " 32  P404           495000 non-null  int64 \n",
      " 33  UV401          495000 non-null  int64 \n",
      " 34  AIT501         495000 non-null  object\n",
      " 35  AIT502         495000 non-null  object\n",
      " 36  AIT503         495000 non-null  object\n",
      " 37  AIT504         495000 non-null  object\n",
      " 38  FIT501         495000 non-null  object\n",
      " 39  FIT502         495000 non-null  object\n",
      " 40  FIT503         495000 non-null  object\n",
      " 41  FIT504         495000 non-null  object\n",
      " 42  P501           495000 non-null  int64 \n",
      " 43  P502           495000 non-null  int64 \n",
      " 44  PIT501         495000 non-null  object\n",
      " 45  PIT502         495000 non-null  object\n",
      " 46  PIT503         495000 non-null  object\n",
      " 47  FIT601         495000 non-null  object\n",
      " 48  P601           495000 non-null  int64 \n",
      " 49  P602           495000 non-null  int64 \n",
      " 50  P603           495000 non-null  int64 \n",
      " 51  Normal/Attack  495000 non-null  object\n",
      "dtypes: int64(26), object(26)\n",
      "memory usage: 196.4+ MB\n"
     ]
    }
   ],
   "source": [
    "normal.info()"
   ]
  },
  {
   "cell_type": "markdown",
   "metadata": {},
   "source": [
    "## - Attack"
   ]
  },
  {
   "cell_type": "markdown",
   "metadata": {},
   "source": [
    "Récupération des données du dataset avec des attaques."
   ]
  },
  {
   "cell_type": "code",
   "execution_count": 28,
   "metadata": {
    "scrolled": true
   },
   "outputs": [],
   "source": [
    "attack = pd.read_csv(\"../data/SWaT_Dataset_Attack_v0.csv\",low_memory=False, sep=\";\")\n",
    "attack = attack.drop([\"Timestamp\"] , axis = 1)"
   ]
  },
  {
   "cell_type": "code",
   "execution_count": 29,
   "metadata": {
    "scrolled": true
   },
   "outputs": [
    {
     "data": {
      "text/plain": [
       "(449919, 52)"
      ]
     },
     "execution_count": 29,
     "metadata": {},
     "output_type": "execute_result"
    }
   ],
   "source": [
    "attack.shape"
   ]
  },
  {
   "cell_type": "code",
   "execution_count": 30,
   "metadata": {},
   "outputs": [
    {
     "data": {
      "text/html": [
       "<div>\n",
       "<style scoped>\n",
       "    .dataframe tbody tr th:only-of-type {\n",
       "        vertical-align: middle;\n",
       "    }\n",
       "\n",
       "    .dataframe tbody tr th {\n",
       "        vertical-align: top;\n",
       "    }\n",
       "\n",
       "    .dataframe thead th {\n",
       "        text-align: right;\n",
       "    }\n",
       "</style>\n",
       "<table border=\"1\" class=\"dataframe\">\n",
       "  <thead>\n",
       "    <tr style=\"text-align: right;\">\n",
       "      <th></th>\n",
       "      <th>FIT101</th>\n",
       "      <th>LIT101</th>\n",
       "      <th>MV101</th>\n",
       "      <th>P101</th>\n",
       "      <th>P102</th>\n",
       "      <th>AIT201</th>\n",
       "      <th>AIT202</th>\n",
       "      <th>AIT203</th>\n",
       "      <th>FIT201</th>\n",
       "      <th>MV201</th>\n",
       "      <th>...</th>\n",
       "      <th>P501</th>\n",
       "      <th>P502</th>\n",
       "      <th>PIT501</th>\n",
       "      <th>PIT502</th>\n",
       "      <th>PIT503</th>\n",
       "      <th>FIT601</th>\n",
       "      <th>P601</th>\n",
       "      <th>P602</th>\n",
       "      <th>P603</th>\n",
       "      <th>Normal/Attack</th>\n",
       "    </tr>\n",
       "  </thead>\n",
       "  <tbody>\n",
       "    <tr>\n",
       "      <th>0</th>\n",
       "      <td>2,427057</td>\n",
       "      <td>522,8467</td>\n",
       "      <td>2</td>\n",
       "      <td>2</td>\n",
       "      <td>1</td>\n",
       "      <td>262,0161</td>\n",
       "      <td>8,396437</td>\n",
       "      <td>328,6337</td>\n",
       "      <td>2,445391</td>\n",
       "      <td>2</td>\n",
       "      <td>...</td>\n",
       "      <td>2</td>\n",
       "      <td>1</td>\n",
       "      <td>250,8652</td>\n",
       "      <td>1,649953</td>\n",
       "      <td>189,5988</td>\n",
       "      <td>0,000128152</td>\n",
       "      <td>1</td>\n",
       "      <td>1</td>\n",
       "      <td>1</td>\n",
       "      <td>Normal</td>\n",
       "    </tr>\n",
       "    <tr>\n",
       "      <th>1</th>\n",
       "      <td>2,446274</td>\n",
       "      <td>522,886</td>\n",
       "      <td>2</td>\n",
       "      <td>2</td>\n",
       "      <td>1</td>\n",
       "      <td>262,0161</td>\n",
       "      <td>8,396437</td>\n",
       "      <td>328,6337</td>\n",
       "      <td>2,445391</td>\n",
       "      <td>2</td>\n",
       "      <td>...</td>\n",
       "      <td>2</td>\n",
       "      <td>1</td>\n",
       "      <td>250,8652</td>\n",
       "      <td>1,649953</td>\n",
       "      <td>189,6789</td>\n",
       "      <td>0,000128152</td>\n",
       "      <td>1</td>\n",
       "      <td>1</td>\n",
       "      <td>1</td>\n",
       "      <td>Normal</td>\n",
       "    </tr>\n",
       "    <tr>\n",
       "      <th>2</th>\n",
       "      <td>2,489191</td>\n",
       "      <td>522,8467</td>\n",
       "      <td>2</td>\n",
       "      <td>2</td>\n",
       "      <td>1</td>\n",
       "      <td>262,0161</td>\n",
       "      <td>8,394514</td>\n",
       "      <td>328,6337</td>\n",
       "      <td>2,442316</td>\n",
       "      <td>2</td>\n",
       "      <td>...</td>\n",
       "      <td>2</td>\n",
       "      <td>1</td>\n",
       "      <td>250,8812</td>\n",
       "      <td>1,649953</td>\n",
       "      <td>189,6789</td>\n",
       "      <td>0,000128152</td>\n",
       "      <td>1</td>\n",
       "      <td>1</td>\n",
       "      <td>1</td>\n",
       "      <td>Normal</td>\n",
       "    </tr>\n",
       "    <tr>\n",
       "      <th>3</th>\n",
       "      <td>2,53435</td>\n",
       "      <td>522,9645</td>\n",
       "      <td>2</td>\n",
       "      <td>2</td>\n",
       "      <td>1</td>\n",
       "      <td>262,0161</td>\n",
       "      <td>8,394514</td>\n",
       "      <td>328,6337</td>\n",
       "      <td>2,442316</td>\n",
       "      <td>2</td>\n",
       "      <td>...</td>\n",
       "      <td>2</td>\n",
       "      <td>1</td>\n",
       "      <td>250,8812</td>\n",
       "      <td>1,649953</td>\n",
       "      <td>189,6148</td>\n",
       "      <td>0,000128152</td>\n",
       "      <td>1</td>\n",
       "      <td>1</td>\n",
       "      <td>1</td>\n",
       "      <td>Normal</td>\n",
       "    </tr>\n",
       "    <tr>\n",
       "      <th>4</th>\n",
       "      <td>2,56926</td>\n",
       "      <td>523,4748</td>\n",
       "      <td>2</td>\n",
       "      <td>2</td>\n",
       "      <td>1</td>\n",
       "      <td>262,0161</td>\n",
       "      <td>8,394514</td>\n",
       "      <td>328,6337</td>\n",
       "      <td>2,443085</td>\n",
       "      <td>2</td>\n",
       "      <td>...</td>\n",
       "      <td>2</td>\n",
       "      <td>1</td>\n",
       "      <td>250,8812</td>\n",
       "      <td>1,649953</td>\n",
       "      <td>189,5027</td>\n",
       "      <td>0,000128152</td>\n",
       "      <td>1</td>\n",
       "      <td>1</td>\n",
       "      <td>1</td>\n",
       "      <td>Normal</td>\n",
       "    </tr>\n",
       "  </tbody>\n",
       "</table>\n",
       "<p>5 rows × 52 columns</p>\n",
       "</div>"
      ],
      "text/plain": [
       "     FIT101    LIT101  MV101  P101  P102    AIT201    AIT202    AIT203  \\\n",
       "0  2,427057  522,8467      2     2     1  262,0161  8,396437  328,6337   \n",
       "1  2,446274   522,886      2     2     1  262,0161  8,396437  328,6337   \n",
       "2  2,489191  522,8467      2     2     1  262,0161  8,394514  328,6337   \n",
       "3   2,53435  522,9645      2     2     1  262,0161  8,394514  328,6337   \n",
       "4   2,56926  523,4748      2     2     1  262,0161  8,394514  328,6337   \n",
       "\n",
       "     FIT201  MV201  ...  P501  P502    PIT501    PIT502    PIT503  \\\n",
       "0  2,445391      2  ...     2     1  250,8652  1,649953  189,5988   \n",
       "1  2,445391      2  ...     2     1  250,8652  1,649953  189,6789   \n",
       "2  2,442316      2  ...     2     1  250,8812  1,649953  189,6789   \n",
       "3  2,442316      2  ...     2     1  250,8812  1,649953  189,6148   \n",
       "4  2,443085      2  ...     2     1  250,8812  1,649953  189,5027   \n",
       "\n",
       "        FIT601 P601 P602 P603  Normal/Attack  \n",
       "0  0,000128152    1    1    1         Normal  \n",
       "1  0,000128152    1    1    1         Normal  \n",
       "2  0,000128152    1    1    1         Normal  \n",
       "3  0,000128152    1    1    1         Normal  \n",
       "4  0,000128152    1    1    1         Normal  \n",
       "\n",
       "[5 rows x 52 columns]"
      ]
     },
     "execution_count": 30,
     "metadata": {},
     "output_type": "execute_result"
    }
   ],
   "source": [
    "attack.head()\n"
   ]
  },
  {
   "cell_type": "markdown",
   "metadata": {},
   "source": [
    "# 2. Analysis"
   ]
  },
  {
   "cell_type": "markdown",
   "metadata": {},
   "source": [
    "### 2.1 Combinaison des deux csv"
   ]
  },
  {
   "cell_type": "code",
   "execution_count": 31,
   "metadata": {},
   "outputs": [
    {
     "name": "stdout",
     "output_type": "stream",
     "text": [
      "On a les mêmes colonnes sur les deux fichiers.\n"
     ]
    }
   ],
   "source": [
    "# vérification si ils ont les memes colonnes\n",
    "if set(normal.columns) == set(attack.columns):\n",
    "    print(\"On a les mêmes colonnes sur les deux fichiers.\")\n",
    "else:\n",
    "    print(\"On n'a pas les mêmes colonnes !!\")\n",
    "    print(\"_________normal__________\")\n",
    "    print(normal.columns)\n",
    "    print(\"_________attack__________\")\n",
    "    print(attack.columns)"
   ]
  },
  {
   "cell_type": "code",
   "execution_count": 32,
   "metadata": {},
   "outputs": [
    {
     "name": "stdout",
     "output_type": "stream",
     "text": [
      "Les DataFrames ont été combinés avec succès !\n"
     ]
    }
   ],
   "source": [
    "# combinaison des deux csv\n",
    "if normal.columns.equals(attack.columns):\n",
    "    # Concaténer les deux DataFrames\n",
    "    combined = pd.concat([normal, attack], ignore_index=True)\n",
    "    print(\"Les DataFrames ont été combinés avec succès !\")\n",
    "else:\n",
    "    print(\"Les colonnes des deux DataFrames ne sont pas identiques.\")\n"
   ]
  },
  {
   "cell_type": "code",
   "execution_count": 33,
   "metadata": {},
   "outputs": [
    {
     "data": {
      "text/plain": [
       "Index(['FIT101', 'LIT101', 'MV101', 'P101', 'P102', 'AIT201', 'AIT202',\n",
       "       'AIT203', 'FIT201', 'MV201', 'P201', 'P202', 'P203', 'P204', 'P205',\n",
       "       'P206', 'DPIT301', 'FIT301', 'LIT301', 'MV301', 'MV302', 'MV303',\n",
       "       'MV304', 'P301', 'P302', 'AIT401', 'AIT402', 'FIT401', 'LIT401', 'P401',\n",
       "       'P402', 'P403', 'P404', 'UV401', 'AIT501', 'AIT502', 'AIT503', 'AIT504',\n",
       "       'FIT501', 'FIT502', 'FIT503', 'FIT504', 'P501', 'P502', 'PIT501',\n",
       "       'PIT502', 'PIT503', 'FIT601', 'P601', 'P602', 'P603', 'Normal/Attack'],\n",
       "      dtype='object')"
      ]
     },
     "execution_count": 33,
     "metadata": {},
     "output_type": "execute_result"
    }
   ],
   "source": [
    "combined.columns"
   ]
  },
  {
   "cell_type": "code",
   "execution_count": 34,
   "metadata": {},
   "outputs": [
    {
     "data": {
      "text/plain": [
       "(944919, 52)"
      ]
     },
     "execution_count": 34,
     "metadata": {},
     "output_type": "execute_result"
    }
   ],
   "source": [
    "combined.shape"
   ]
  },
  {
   "cell_type": "code",
   "execution_count": 35,
   "metadata": {},
   "outputs": [
    {
     "data": {
      "text/html": [
       "<div>\n",
       "<style scoped>\n",
       "    .dataframe tbody tr th:only-of-type {\n",
       "        vertical-align: middle;\n",
       "    }\n",
       "\n",
       "    .dataframe tbody tr th {\n",
       "        vertical-align: top;\n",
       "    }\n",
       "\n",
       "    .dataframe thead th {\n",
       "        text-align: right;\n",
       "    }\n",
       "</style>\n",
       "<table border=\"1\" class=\"dataframe\">\n",
       "  <thead>\n",
       "    <tr style=\"text-align: right;\">\n",
       "      <th></th>\n",
       "      <th>FIT101</th>\n",
       "      <th>LIT101</th>\n",
       "      <th>MV101</th>\n",
       "      <th>P101</th>\n",
       "      <th>P102</th>\n",
       "      <th>AIT201</th>\n",
       "      <th>AIT202</th>\n",
       "      <th>AIT203</th>\n",
       "      <th>FIT201</th>\n",
       "      <th>MV201</th>\n",
       "      <th>...</th>\n",
       "      <th>P501</th>\n",
       "      <th>P502</th>\n",
       "      <th>PIT501</th>\n",
       "      <th>PIT502</th>\n",
       "      <th>PIT503</th>\n",
       "      <th>FIT601</th>\n",
       "      <th>P601</th>\n",
       "      <th>P602</th>\n",
       "      <th>P603</th>\n",
       "      <th>Normal/Attack</th>\n",
       "    </tr>\n",
       "  </thead>\n",
       "  <tbody>\n",
       "    <tr>\n",
       "      <th>0</th>\n",
       "      <td>0</td>\n",
       "      <td>124,3135</td>\n",
       "      <td>1</td>\n",
       "      <td>1</td>\n",
       "      <td>1</td>\n",
       "      <td>251,9226</td>\n",
       "      <td>8,313446</td>\n",
       "      <td>312,7916</td>\n",
       "      <td>0</td>\n",
       "      <td>1</td>\n",
       "      <td>...</td>\n",
       "      <td>1</td>\n",
       "      <td>1</td>\n",
       "      <td>9,100231</td>\n",
       "      <td>0</td>\n",
       "      <td>3,3485</td>\n",
       "      <td>0,0002563035</td>\n",
       "      <td>1</td>\n",
       "      <td>1</td>\n",
       "      <td>1</td>\n",
       "      <td>Normal</td>\n",
       "    </tr>\n",
       "    <tr>\n",
       "      <th>1</th>\n",
       "      <td>0</td>\n",
       "      <td>124,392</td>\n",
       "      <td>1</td>\n",
       "      <td>1</td>\n",
       "      <td>1</td>\n",
       "      <td>251,9226</td>\n",
       "      <td>8,313446</td>\n",
       "      <td>312,7916</td>\n",
       "      <td>0</td>\n",
       "      <td>1</td>\n",
       "      <td>...</td>\n",
       "      <td>1</td>\n",
       "      <td>1</td>\n",
       "      <td>9,100231</td>\n",
       "      <td>0</td>\n",
       "      <td>3,3485</td>\n",
       "      <td>0,0002563035</td>\n",
       "      <td>1</td>\n",
       "      <td>1</td>\n",
       "      <td>1</td>\n",
       "      <td>Normal</td>\n",
       "    </tr>\n",
       "    <tr>\n",
       "      <th>2</th>\n",
       "      <td>0</td>\n",
       "      <td>124,4705</td>\n",
       "      <td>1</td>\n",
       "      <td>1</td>\n",
       "      <td>1</td>\n",
       "      <td>251,9226</td>\n",
       "      <td>8,313446</td>\n",
       "      <td>312,7916</td>\n",
       "      <td>0</td>\n",
       "      <td>1</td>\n",
       "      <td>...</td>\n",
       "      <td>1</td>\n",
       "      <td>1</td>\n",
       "      <td>9,100231</td>\n",
       "      <td>0</td>\n",
       "      <td>3,3485</td>\n",
       "      <td>0,0002563035</td>\n",
       "      <td>1</td>\n",
       "      <td>1</td>\n",
       "      <td>1</td>\n",
       "      <td>Normal</td>\n",
       "    </tr>\n",
       "    <tr>\n",
       "      <th>3</th>\n",
       "      <td>0</td>\n",
       "      <td>124,6668</td>\n",
       "      <td>1</td>\n",
       "      <td>1</td>\n",
       "      <td>1</td>\n",
       "      <td>251,9226</td>\n",
       "      <td>8,313446</td>\n",
       "      <td>312,7916</td>\n",
       "      <td>0</td>\n",
       "      <td>1</td>\n",
       "      <td>...</td>\n",
       "      <td>1</td>\n",
       "      <td>1</td>\n",
       "      <td>9,100231</td>\n",
       "      <td>0</td>\n",
       "      <td>3,3485</td>\n",
       "      <td>0,0002563035</td>\n",
       "      <td>1</td>\n",
       "      <td>1</td>\n",
       "      <td>1</td>\n",
       "      <td>Normal</td>\n",
       "    </tr>\n",
       "    <tr>\n",
       "      <th>4</th>\n",
       "      <td>0</td>\n",
       "      <td>124,5098</td>\n",
       "      <td>1</td>\n",
       "      <td>1</td>\n",
       "      <td>1</td>\n",
       "      <td>251,9226</td>\n",
       "      <td>8,313446</td>\n",
       "      <td>312,7916</td>\n",
       "      <td>0</td>\n",
       "      <td>1</td>\n",
       "      <td>...</td>\n",
       "      <td>1</td>\n",
       "      <td>1</td>\n",
       "      <td>9,100231</td>\n",
       "      <td>0</td>\n",
       "      <td>3,3485</td>\n",
       "      <td>0,0002563035</td>\n",
       "      <td>1</td>\n",
       "      <td>1</td>\n",
       "      <td>1</td>\n",
       "      <td>Normal</td>\n",
       "    </tr>\n",
       "  </tbody>\n",
       "</table>\n",
       "<p>5 rows × 52 columns</p>\n",
       "</div>"
      ],
      "text/plain": [
       "  FIT101    LIT101  MV101  P101  P102    AIT201    AIT202    AIT203 FIT201  \\\n",
       "0      0  124,3135      1     1     1  251,9226  8,313446  312,7916      0   \n",
       "1      0   124,392      1     1     1  251,9226  8,313446  312,7916      0   \n",
       "2      0  124,4705      1     1     1  251,9226  8,313446  312,7916      0   \n",
       "3      0  124,6668      1     1     1  251,9226  8,313446  312,7916      0   \n",
       "4      0  124,5098      1     1     1  251,9226  8,313446  312,7916      0   \n",
       "\n",
       "   MV201  ...  P501  P502    PIT501  PIT502  PIT503        FIT601 P601 P602  \\\n",
       "0      1  ...     1     1  9,100231       0  3,3485  0,0002563035    1    1   \n",
       "1      1  ...     1     1  9,100231       0  3,3485  0,0002563035    1    1   \n",
       "2      1  ...     1     1  9,100231       0  3,3485  0,0002563035    1    1   \n",
       "3      1  ...     1     1  9,100231       0  3,3485  0,0002563035    1    1   \n",
       "4      1  ...     1     1  9,100231       0  3,3485  0,0002563035    1    1   \n",
       "\n",
       "  P603  Normal/Attack  \n",
       "0    1         Normal  \n",
       "1    1         Normal  \n",
       "2    1         Normal  \n",
       "3    1         Normal  \n",
       "4    1         Normal  \n",
       "\n",
       "[5 rows x 52 columns]"
      ]
     },
     "execution_count": 35,
     "metadata": {},
     "output_type": "execute_result"
    }
   ],
   "source": [
    "combined.head()"
   ]
  },
  {
   "cell_type": "markdown",
   "metadata": {},
   "source": [
    "### 2.2 Combien on a d'attaque et de normal ?"
   ]
  },
  {
   "cell_type": "code",
   "execution_count": 36,
   "metadata": {},
   "outputs": [
    {
     "data": {
      "text/plain": [
       "Normal     890298\n",
       "Attack      54584\n",
       "A ttack        37\n",
       "Name: Normal/Attack, dtype: int64"
      ]
     },
     "execution_count": 36,
     "metadata": {},
     "output_type": "execute_result"
    }
   ],
   "source": [
    "count_values = combined['Normal/Attack'].value_counts()\n",
    "count_values"
   ]
  },
  {
   "cell_type": "code",
   "execution_count": 37,
   "metadata": {},
   "outputs": [
    {
     "data": {
      "text/html": [
       "<div>\n",
       "<style scoped>\n",
       "    .dataframe tbody tr th:only-of-type {\n",
       "        vertical-align: middle;\n",
       "    }\n",
       "\n",
       "    .dataframe tbody tr th {\n",
       "        vertical-align: top;\n",
       "    }\n",
       "\n",
       "    .dataframe thead th {\n",
       "        text-align: right;\n",
       "    }\n",
       "</style>\n",
       "<table border=\"1\" class=\"dataframe\">\n",
       "  <thead>\n",
       "    <tr style=\"text-align: right;\">\n",
       "      <th></th>\n",
       "      <th>FIT101</th>\n",
       "      <th>LIT101</th>\n",
       "      <th>MV101</th>\n",
       "      <th>P101</th>\n",
       "      <th>P102</th>\n",
       "      <th>AIT201</th>\n",
       "      <th>AIT202</th>\n",
       "      <th>AIT203</th>\n",
       "      <th>FIT201</th>\n",
       "      <th>MV201</th>\n",
       "      <th>...</th>\n",
       "      <th>P501</th>\n",
       "      <th>P502</th>\n",
       "      <th>PIT501</th>\n",
       "      <th>PIT502</th>\n",
       "      <th>PIT503</th>\n",
       "      <th>FIT601</th>\n",
       "      <th>P601</th>\n",
       "      <th>P602</th>\n",
       "      <th>P603</th>\n",
       "      <th>Normal/Attack</th>\n",
       "    </tr>\n",
       "  </thead>\n",
       "  <tbody>\n",
       "    <tr>\n",
       "      <th>0</th>\n",
       "      <td>0</td>\n",
       "      <td>124,3135</td>\n",
       "      <td>1</td>\n",
       "      <td>1</td>\n",
       "      <td>1</td>\n",
       "      <td>251,9226</td>\n",
       "      <td>8,313446</td>\n",
       "      <td>312,7916</td>\n",
       "      <td>0</td>\n",
       "      <td>1</td>\n",
       "      <td>...</td>\n",
       "      <td>1</td>\n",
       "      <td>1</td>\n",
       "      <td>9,100231</td>\n",
       "      <td>0</td>\n",
       "      <td>3,3485</td>\n",
       "      <td>0,0002563035</td>\n",
       "      <td>1</td>\n",
       "      <td>1</td>\n",
       "      <td>1</td>\n",
       "      <td>Normal</td>\n",
       "    </tr>\n",
       "    <tr>\n",
       "      <th>1</th>\n",
       "      <td>0</td>\n",
       "      <td>124,392</td>\n",
       "      <td>1</td>\n",
       "      <td>1</td>\n",
       "      <td>1</td>\n",
       "      <td>251,9226</td>\n",
       "      <td>8,313446</td>\n",
       "      <td>312,7916</td>\n",
       "      <td>0</td>\n",
       "      <td>1</td>\n",
       "      <td>...</td>\n",
       "      <td>1</td>\n",
       "      <td>1</td>\n",
       "      <td>9,100231</td>\n",
       "      <td>0</td>\n",
       "      <td>3,3485</td>\n",
       "      <td>0,0002563035</td>\n",
       "      <td>1</td>\n",
       "      <td>1</td>\n",
       "      <td>1</td>\n",
       "      <td>Normal</td>\n",
       "    </tr>\n",
       "    <tr>\n",
       "      <th>2</th>\n",
       "      <td>0</td>\n",
       "      <td>124,4705</td>\n",
       "      <td>1</td>\n",
       "      <td>1</td>\n",
       "      <td>1</td>\n",
       "      <td>251,9226</td>\n",
       "      <td>8,313446</td>\n",
       "      <td>312,7916</td>\n",
       "      <td>0</td>\n",
       "      <td>1</td>\n",
       "      <td>...</td>\n",
       "      <td>1</td>\n",
       "      <td>1</td>\n",
       "      <td>9,100231</td>\n",
       "      <td>0</td>\n",
       "      <td>3,3485</td>\n",
       "      <td>0,0002563035</td>\n",
       "      <td>1</td>\n",
       "      <td>1</td>\n",
       "      <td>1</td>\n",
       "      <td>Normal</td>\n",
       "    </tr>\n",
       "    <tr>\n",
       "      <th>3</th>\n",
       "      <td>0</td>\n",
       "      <td>124,6668</td>\n",
       "      <td>1</td>\n",
       "      <td>1</td>\n",
       "      <td>1</td>\n",
       "      <td>251,9226</td>\n",
       "      <td>8,313446</td>\n",
       "      <td>312,7916</td>\n",
       "      <td>0</td>\n",
       "      <td>1</td>\n",
       "      <td>...</td>\n",
       "      <td>1</td>\n",
       "      <td>1</td>\n",
       "      <td>9,100231</td>\n",
       "      <td>0</td>\n",
       "      <td>3,3485</td>\n",
       "      <td>0,0002563035</td>\n",
       "      <td>1</td>\n",
       "      <td>1</td>\n",
       "      <td>1</td>\n",
       "      <td>Normal</td>\n",
       "    </tr>\n",
       "    <tr>\n",
       "      <th>4</th>\n",
       "      <td>0</td>\n",
       "      <td>124,5098</td>\n",
       "      <td>1</td>\n",
       "      <td>1</td>\n",
       "      <td>1</td>\n",
       "      <td>251,9226</td>\n",
       "      <td>8,313446</td>\n",
       "      <td>312,7916</td>\n",
       "      <td>0</td>\n",
       "      <td>1</td>\n",
       "      <td>...</td>\n",
       "      <td>1</td>\n",
       "      <td>1</td>\n",
       "      <td>9,100231</td>\n",
       "      <td>0</td>\n",
       "      <td>3,3485</td>\n",
       "      <td>0,0002563035</td>\n",
       "      <td>1</td>\n",
       "      <td>1</td>\n",
       "      <td>1</td>\n",
       "      <td>Normal</td>\n",
       "    </tr>\n",
       "  </tbody>\n",
       "</table>\n",
       "<p>5 rows × 52 columns</p>\n",
       "</div>"
      ],
      "text/plain": [
       "  FIT101    LIT101  MV101  P101  P102    AIT201    AIT202    AIT203 FIT201  \\\n",
       "0      0  124,3135      1     1     1  251,9226  8,313446  312,7916      0   \n",
       "1      0   124,392      1     1     1  251,9226  8,313446  312,7916      0   \n",
       "2      0  124,4705      1     1     1  251,9226  8,313446  312,7916      0   \n",
       "3      0  124,6668      1     1     1  251,9226  8,313446  312,7916      0   \n",
       "4      0  124,5098      1     1     1  251,9226  8,313446  312,7916      0   \n",
       "\n",
       "   MV201  ...  P501  P502    PIT501  PIT502  PIT503        FIT601 P601 P602  \\\n",
       "0      1  ...     1     1  9,100231       0  3,3485  0,0002563035    1    1   \n",
       "1      1  ...     1     1  9,100231       0  3,3485  0,0002563035    1    1   \n",
       "2      1  ...     1     1  9,100231       0  3,3485  0,0002563035    1    1   \n",
       "3      1  ...     1     1  9,100231       0  3,3485  0,0002563035    1    1   \n",
       "4      1  ...     1     1  9,100231       0  3,3485  0,0002563035    1    1   \n",
       "\n",
       "  P603  Normal/Attack  \n",
       "0    1         Normal  \n",
       "1    1         Normal  \n",
       "2    1         Normal  \n",
       "3    1         Normal  \n",
       "4    1         Normal  \n",
       "\n",
       "[5 rows x 52 columns]"
      ]
     },
     "execution_count": 37,
     "metadata": {},
     "output_type": "execute_result"
    }
   ],
   "source": [
    "combined.head()"
   ]
  },
  {
   "cell_type": "code",
   "execution_count": 38,
   "metadata": {},
   "outputs": [
    {
     "data": {
      "text/plain": [
       "Normal    890298\n",
       "Attack     54621\n",
       "Name: Normal/Attack, dtype: int64"
      ]
     },
     "execution_count": 38,
     "metadata": {},
     "output_type": "execute_result"
    }
   ],
   "source": [
    "# correction de A ttack en Attack\n",
    "combined['Normal/Attack'] = combined['Normal/Attack'].replace({'A ttack': 'Attack'})\n",
    "count_values = combined['Normal/Attack'].value_counts()\n",
    "count_values"
   ]
  },
  {
   "cell_type": "code",
   "execution_count": 39,
   "metadata": {},
   "outputs": [
    {
     "data": {
      "image/png": "[encoded data removed]",
      "text/plain": [
       "<Figure size 800x800 with 1 Axes>"
      ]
     },
     "metadata": {},
     "output_type": "display_data"
    }
   ],
   "source": [
    "#Affichage\n",
    "plt.figure(figsize=(8, 8))\n",
    "plt.pie(count_values, labels=count_values.index, autopct='%1.1f%%', colors=['lightgreen', 'lightcoral'], startangle=90)\n",
    "plt.title('Répartition de \"Normal\" vs \"Attack\"')\n",
    "plt.show()"
   ]
  },
  {
   "cell_type": "markdown",
   "metadata": {},
   "source": [
    "### 2.3 Correlation"
   ]
  },
  {
   "cell_type": "code",
   "execution_count": 40,
   "metadata": {},
   "outputs": [
    {
     "data": {
      "image/png": "[encoded data removed]",
      "text/plain": [
       "<Figure size 1200x1200 with 2 Axes>"
      ]
     },
     "metadata": {},
     "output_type": "display_data"
    }
   ],
   "source": [
    "corr_matrix = combined.corr(method= \"pearson\")\n",
    "plt.figure(figsize=(12, 12))  \n",
    "sns.heatmap(corr_matrix,square=True)\n",
    "#sns.heatmap(corr_matrix, annot=True, cmap=\"coolwarm\", fmt=\".2f\", square=True)\n",
    "plt.show()"
   ]
  },
  {
   "cell_type": "code",
   "execution_count": 41,
   "metadata": {},
   "outputs": [
    {
     "name": "stdout",
     "output_type": "stream",
     "text": [
      "P101                 MV201                0.9867743963170607\n",
      "P101                 P203                 0.9917319053102396\n",
      "MV201                P203                 0.9812199691686654\n",
      "P204                 P206                 0.991030684534372\n",
      "MV302                P302                 0.9003637381665688\n",
      "P402                 UV401                0.9800483158602863\n",
      "P402                 P501                 0.9789810432214828\n",
      "UV401                P501                 0.9987942181205025\n"
     ]
    }
   ],
   "source": [
    "# Getting and printing high correlated features\n",
    "limit = 0.9\n",
    "\n",
    "columns = corr_matrix.columns\n",
    "for i in range(corr_matrix.shape[0]):\n",
    "    for j in range(i+1, corr_matrix.shape[0]):\n",
    "        if corr_matrix.iloc[i, j] >= 0.9:\n",
    "            print(f\"{columns[i]:20s} {columns[j]:20s} {corr_matrix.iloc[i, j]}\")\n"
   ]
  },
  {
   "cell_type": "markdown",
   "metadata": {},
   "source": [
    "## corr_matrix = combined.corr(method= \"pearson\")\n",
    "plt.figure(figsize=(12, 12))  \n",
    "sns.heatmap(corr_matrix,square=True)\n",
    "#sns.heatmap(corr_matrix, annot=True, cmap=\"coolwarm\", fmt=\".2f\", square=True)\n",
    "plt.show()"
   ]
  },
  {
   "cell_type": "markdown",
   "metadata": {},
   "source": [
    "Les features où, on a le plus de correlation : \n",
    "P101,                 MV201                \n",
    "P101,                P203                 \n",
    "MV201,                P203                 \n",
    "P204,                 P206                 \n",
    "MV302,                P302                 \n",
    "P402,                 UV401                \n",
    "P402,                 P501                 \n",
    "UV401,                P501                 "
   ]
  },
  {
   "cell_type": "code",
   "execution_count": 42,
   "metadata": {
    "scrolled": true
   },
   "outputs": [],
   "source": [
    "#combined.isna().sum()"
   ]
  },
  {
   "cell_type": "code",
   "execution_count": 43,
   "metadata": {
    "scrolled": true
   },
   "outputs": [
    {
     "data": {
      "text/plain": [
       "FIT101            3953\n",
       "LIT101           11457\n",
       "MV101                3\n",
       "P101                 2\n",
       "P102                 2\n",
       "AIT201            2331\n",
       "AIT202            1724\n",
       "AIT203            6868\n",
       "FIT201            4989\n",
       "MV201                3\n",
       "P201                 2\n",
       "P202                 1\n",
       "P203                 2\n",
       "P204                 2\n",
       "P205                 2\n",
       "P206                 2\n",
       "DPIT301           5180\n",
       "FIT301            8281\n",
       "LIT301           11176\n",
       "MV301                3\n",
       "MV302                3\n",
       "MV303                3\n",
       "MV304                3\n",
       "P301                 2\n",
       "P302                 2\n",
       "AIT401              37\n",
       "AIT402            4127\n",
       "FIT401             920\n",
       "LIT401           14444\n",
       "P401                 1\n",
       "P402                 2\n",
       "P403                 2\n",
       "P404                 1\n",
       "UV401                2\n",
       "AIT501            1680\n",
       "AIT502            3469\n",
       "AIT503            1123\n",
       "AIT504             492\n",
       "FIT501             986\n",
       "FIT502            1518\n",
       "FIT503             468\n",
       "FIT504             291\n",
       "P501                 2\n",
       "P502                 1\n",
       "PIT501            1365\n",
       "PIT502             109\n",
       "PIT503            1280\n",
       "FIT601            6053\n",
       "P601                 1\n",
       "P602                 2\n",
       "P603                 1\n",
       "Normal/Attack        2\n",
       "dtype: int64"
      ]
     },
     "execution_count": 43,
     "metadata": {},
     "output_type": "execute_result"
    }
   ],
   "source": [
    "combined.nunique() "
   ]
  },
  {
   "cell_type": "markdown",
   "metadata": {},
   "source": [
    "Sur les colonnes blanches, on n'a pas de corrélation. Car ils ont des valeurs uniques.\\\n",
    "P202, P401, P404, P502, P601, P603"
   ]
  },
  {
   "cell_type": "code",
   "execution_count": 44,
   "metadata": {},
   "outputs": [
    {
     "name": "stdout",
     "output_type": "stream",
     "text": [
      "Colonnes avec une seule valeur unique :\n",
      "Index(['P202', 'P401', 'P404', 'P502', 'P601', 'P603'], dtype='object')\n"
     ]
    }
   ],
   "source": [
    "single_value_columns = combined.columns[combined.nunique() == 1]\n",
    "\n",
    "# Afficher la liste des colonnes avec une seule valeur unique\n",
    "print(\"Colonnes avec une seule valeur unique :\")\n",
    "print(single_value_columns)"
   ]
  },
  {
   "cell_type": "markdown",
   "metadata": {},
   "source": [
    "### 2.3.1 Supprimer les features avec les hautes correlations"
   ]
  },
  {
   "cell_type": "code",
   "execution_count": 45,
   "metadata": {},
   "outputs": [
    {
     "name": "stdout",
     "output_type": "stream",
     "text": [
      "['MV201', 'P203', 'P206', 'UV401', 'P501']\n"
     ]
    }
   ],
   "source": [
    "corr_matrix = combined.corr().abs()\n",
    "# Select upper triangle of correlation matrix\n",
    "#modif np.bool => bool\n",
    "upper = corr_matrix.where(np.triu(np.ones(corr_matrix.shape), k=1).astype(bool))\n",
    "\n",
    "# Find index of feature columns with correlation greater than 0.9\n",
    "to_drop = [column for column in upper.columns if any(upper[column] > 0.95)]\n",
    "print(to_drop)"
   ]
  },
  {
   "cell_type": "code",
   "execution_count": 46,
   "metadata": {},
   "outputs": [
    {
     "name": "stdout",
     "output_type": "stream",
     "text": [
      "Drop fini\n"
     ]
    }
   ],
   "source": [
    "#Suppression ici \n",
    "combined_2 =combined\n",
    "combined = combined.drop([\"MV201\", \"P203\", \"P206\", \"UV401\", \"P501\" ] , axis = 1)\n",
    "print(\"Drop fini\")"
   ]
  },
  {
   "cell_type": "markdown",
   "metadata": {},
   "source": [
    "## Modification des données"
   ]
  },
  {
   "cell_type": "markdown",
   "metadata": {},
   "source": [
    "On associera 'Normal' => '0' et 'Attack' => '1' "
   ]
  },
  {
   "cell_type": "code",
   "execution_count": 47,
   "metadata": {},
   "outputs": [],
   "source": [
    "#Labelisation\n",
    "combined['Normal/Attack'] = combined['Normal/Attack'].replace({'Normal': 0, 'Attack': 1})"
   ]
  },
  {
   "cell_type": "markdown",
   "metadata": {},
   "source": [
    "\n",
    "Pour cette partie , on a plusieur type object. Mais ils se présentent comme ceci : 2,427377 \\\n",
    "On ira remplacer ',' par '.' puis les convertir en float.\\"
   ]
  },
  {
   "cell_type": "code",
   "execution_count": 48,
   "metadata": {},
   "outputs": [],
   "source": [
    "# correction de 2,427377(object) => 2.427377(float) \n",
    "# Remplacer les virgules par des points dans toutes les colonnes de type 'object'\n",
    "combined = combined.apply(lambda col: col.str.replace(',', '.') if col.dtype == 'object' else col)\n",
    "\n",
    "# Convertir toutes les colonnes de type 'object' en float\n",
    "#combined = combined.apply(lambda col: col.astype(float) if col.dtype == 'object' else col)\n",
    "# \n",
    "combined = combined.astype(float)"
   ]
  },
  {
   "cell_type": "code",
   "execution_count": 49,
   "metadata": {},
   "outputs": [
    {
     "name": "stdout",
     "output_type": "stream",
     "text": [
      "<class 'pandas.core.frame.DataFrame'>\n",
      "RangeIndex: 944919 entries, 0 to 944918\n",
      "Data columns (total 47 columns):\n",
      " #   Column         Non-Null Count   Dtype  \n",
      "---  ------         --------------   -----  \n",
      " 0   FIT101         944919 non-null  float64\n",
      " 1   LIT101         944919 non-null  float64\n",
      " 2   MV101          944919 non-null  float64\n",
      " 3   P101           944919 non-null  float64\n",
      " 4   P102           944919 non-null  float64\n",
      " 5   AIT201         944919 non-null  float64\n",
      " 6   AIT202         944919 non-null  float64\n",
      " 7   AIT203         944919 non-null  float64\n",
      " 8   FIT201         944919 non-null  float64\n",
      " 9   P201           944919 non-null  float64\n",
      " 10  P202           944919 non-null  float64\n",
      " 11  P204           944919 non-null  float64\n",
      " 12  P205           944919 non-null  float64\n",
      " 13  DPIT301        944919 non-null  float64\n",
      " 14  FIT301         944919 non-null  float64\n",
      " 15  LIT301         944919 non-null  float64\n",
      " 16  MV301          944919 non-null  float64\n",
      " 17  MV302          944919 non-null  float64\n",
      " 18  MV303          944919 non-null  float64\n",
      " 19  MV304          944919 non-null  float64\n",
      " 20  P301           944919 non-null  float64\n",
      " 21  P302           944919 non-null  float64\n",
      " 22  AIT401         944919 non-null  float64\n",
      " 23  AIT402         944919 non-null  float64\n",
      " 24  FIT401         944919 non-null  float64\n",
      " 25  LIT401         944919 non-null  float64\n",
      " 26  P401           944919 non-null  float64\n",
      " 27  P402           944919 non-null  float64\n",
      " 28  P403           944919 non-null  float64\n",
      " 29  P404           944919 non-null  float64\n",
      " 30  AIT501         944919 non-null  float64\n",
      " 31  AIT502         944919 non-null  float64\n",
      " 32  AIT503         944919 non-null  float64\n",
      " 33  AIT504         944919 non-null  float64\n",
      " 34  FIT501         944919 non-null  float64\n",
      " 35  FIT502         944919 non-null  float64\n",
      " 36  FIT503         944919 non-null  float64\n",
      " 37  FIT504         944919 non-null  float64\n",
      " 38  P502           944919 non-null  float64\n",
      " 39  PIT501         944919 non-null  float64\n",
      " 40  PIT502         944919 non-null  float64\n",
      " 41  PIT503         944919 non-null  float64\n",
      " 42  FIT601         944919 non-null  float64\n",
      " 43  P601           944919 non-null  float64\n",
      " 44  P602           944919 non-null  float64\n",
      " 45  P603           944919 non-null  float64\n",
      " 46  Normal/Attack  944919 non-null  float64\n",
      "dtypes: float64(47)\n",
      "memory usage: 338.8 MB\n"
     ]
    }
   ],
   "source": [
    "#Vérification \n",
    "combined.info()"
   ]
  },
  {
   "cell_type": "code",
   "execution_count": 50,
   "metadata": {},
   "outputs": [
    {
     "data": {
      "text/html": [
       "<div>\n",
       "<style scoped>\n",
       "    .dataframe tbody tr th:only-of-type {\n",
       "        vertical-align: middle;\n",
       "    }\n",
       "\n",
       "    .dataframe tbody tr th {\n",
       "        vertical-align: top;\n",
       "    }\n",
       "\n",
       "    .dataframe thead th {\n",
       "        text-align: right;\n",
       "    }\n",
       "</style>\n",
       "<table border=\"1\" class=\"dataframe\">\n",
       "  <thead>\n",
       "    <tr style=\"text-align: right;\">\n",
       "      <th></th>\n",
       "      <th>FIT101</th>\n",
       "      <th>LIT101</th>\n",
       "      <th>MV101</th>\n",
       "      <th>P101</th>\n",
       "      <th>P102</th>\n",
       "      <th>AIT201</th>\n",
       "      <th>AIT202</th>\n",
       "      <th>AIT203</th>\n",
       "      <th>FIT201</th>\n",
       "      <th>P201</th>\n",
       "      <th>...</th>\n",
       "      <th>FIT504</th>\n",
       "      <th>P502</th>\n",
       "      <th>PIT501</th>\n",
       "      <th>PIT502</th>\n",
       "      <th>PIT503</th>\n",
       "      <th>FIT601</th>\n",
       "      <th>P601</th>\n",
       "      <th>P602</th>\n",
       "      <th>P603</th>\n",
       "      <th>Normal/Attack</th>\n",
       "    </tr>\n",
       "  </thead>\n",
       "  <tbody>\n",
       "    <tr>\n",
       "      <th>0</th>\n",
       "      <td>0.0</td>\n",
       "      <td>124.3135</td>\n",
       "      <td>1.0</td>\n",
       "      <td>1.0</td>\n",
       "      <td>1.0</td>\n",
       "      <td>251.9226</td>\n",
       "      <td>8.313446</td>\n",
       "      <td>312.7916</td>\n",
       "      <td>0.0</td>\n",
       "      <td>1.0</td>\n",
       "      <td>...</td>\n",
       "      <td>0.0</td>\n",
       "      <td>1.0</td>\n",
       "      <td>9.100231</td>\n",
       "      <td>0.0</td>\n",
       "      <td>3.3485</td>\n",
       "      <td>0.000256</td>\n",
       "      <td>1.0</td>\n",
       "      <td>1.0</td>\n",
       "      <td>1.0</td>\n",
       "      <td>0.0</td>\n",
       "    </tr>\n",
       "    <tr>\n",
       "      <th>1</th>\n",
       "      <td>0.0</td>\n",
       "      <td>124.3920</td>\n",
       "      <td>1.0</td>\n",
       "      <td>1.0</td>\n",
       "      <td>1.0</td>\n",
       "      <td>251.9226</td>\n",
       "      <td>8.313446</td>\n",
       "      <td>312.7916</td>\n",
       "      <td>0.0</td>\n",
       "      <td>1.0</td>\n",
       "      <td>...</td>\n",
       "      <td>0.0</td>\n",
       "      <td>1.0</td>\n",
       "      <td>9.100231</td>\n",
       "      <td>0.0</td>\n",
       "      <td>3.3485</td>\n",
       "      <td>0.000256</td>\n",
       "      <td>1.0</td>\n",
       "      <td>1.0</td>\n",
       "      <td>1.0</td>\n",
       "      <td>0.0</td>\n",
       "    </tr>\n",
       "    <tr>\n",
       "      <th>2</th>\n",
       "      <td>0.0</td>\n",
       "      <td>124.4705</td>\n",
       "      <td>1.0</td>\n",
       "      <td>1.0</td>\n",
       "      <td>1.0</td>\n",
       "      <td>251.9226</td>\n",
       "      <td>8.313446</td>\n",
       "      <td>312.7916</td>\n",
       "      <td>0.0</td>\n",
       "      <td>1.0</td>\n",
       "      <td>...</td>\n",
       "      <td>0.0</td>\n",
       "      <td>1.0</td>\n",
       "      <td>9.100231</td>\n",
       "      <td>0.0</td>\n",
       "      <td>3.3485</td>\n",
       "      <td>0.000256</td>\n",
       "      <td>1.0</td>\n",
       "      <td>1.0</td>\n",
       "      <td>1.0</td>\n",
       "      <td>0.0</td>\n",
       "    </tr>\n",
       "    <tr>\n",
       "      <th>3</th>\n",
       "      <td>0.0</td>\n",
       "      <td>124.6668</td>\n",
       "      <td>1.0</td>\n",
       "      <td>1.0</td>\n",
       "      <td>1.0</td>\n",
       "      <td>251.9226</td>\n",
       "      <td>8.313446</td>\n",
       "      <td>312.7916</td>\n",
       "      <td>0.0</td>\n",
       "      <td>1.0</td>\n",
       "      <td>...</td>\n",
       "      <td>0.0</td>\n",
       "      <td>1.0</td>\n",
       "      <td>9.100231</td>\n",
       "      <td>0.0</td>\n",
       "      <td>3.3485</td>\n",
       "      <td>0.000256</td>\n",
       "      <td>1.0</td>\n",
       "      <td>1.0</td>\n",
       "      <td>1.0</td>\n",
       "      <td>0.0</td>\n",
       "    </tr>\n",
       "    <tr>\n",
       "      <th>4</th>\n",
       "      <td>0.0</td>\n",
       "      <td>124.5098</td>\n",
       "      <td>1.0</td>\n",
       "      <td>1.0</td>\n",
       "      <td>1.0</td>\n",
       "      <td>251.9226</td>\n",
       "      <td>8.313446</td>\n",
       "      <td>312.7916</td>\n",
       "      <td>0.0</td>\n",
       "      <td>1.0</td>\n",
       "      <td>...</td>\n",
       "      <td>0.0</td>\n",
       "      <td>1.0</td>\n",
       "      <td>9.100231</td>\n",
       "      <td>0.0</td>\n",
       "      <td>3.3485</td>\n",
       "      <td>0.000256</td>\n",
       "      <td>1.0</td>\n",
       "      <td>1.0</td>\n",
       "      <td>1.0</td>\n",
       "      <td>0.0</td>\n",
       "    </tr>\n",
       "  </tbody>\n",
       "</table>\n",
       "<p>5 rows × 47 columns</p>\n",
       "</div>"
      ],
      "text/plain": [
       "   FIT101    LIT101  MV101  P101  P102    AIT201    AIT202    AIT203  FIT201  \\\n",
       "0     0.0  124.3135    1.0   1.0   1.0  251.9226  8.313446  312.7916     0.0   \n",
       "1     0.0  124.3920    1.0   1.0   1.0  251.9226  8.313446  312.7916     0.0   \n",
       "2     0.0  124.4705    1.0   1.0   1.0  251.9226  8.313446  312.7916     0.0   \n",
       "3     0.0  124.6668    1.0   1.0   1.0  251.9226  8.313446  312.7916     0.0   \n",
       "4     0.0  124.5098    1.0   1.0   1.0  251.9226  8.313446  312.7916     0.0   \n",
       "\n",
       "   P201  ...  FIT504  P502    PIT501  PIT502  PIT503    FIT601  P601  P602  \\\n",
       "0   1.0  ...     0.0   1.0  9.100231     0.0  3.3485  0.000256   1.0   1.0   \n",
       "1   1.0  ...     0.0   1.0  9.100231     0.0  3.3485  0.000256   1.0   1.0   \n",
       "2   1.0  ...     0.0   1.0  9.100231     0.0  3.3485  0.000256   1.0   1.0   \n",
       "3   1.0  ...     0.0   1.0  9.100231     0.0  3.3485  0.000256   1.0   1.0   \n",
       "4   1.0  ...     0.0   1.0  9.100231     0.0  3.3485  0.000256   1.0   1.0   \n",
       "\n",
       "   P603  Normal/Attack  \n",
       "0   1.0            0.0  \n",
       "1   1.0            0.0  \n",
       "2   1.0            0.0  \n",
       "3   1.0            0.0  \n",
       "4   1.0            0.0  \n",
       "\n",
       "[5 rows x 47 columns]"
      ]
     },
     "execution_count": 50,
     "metadata": {},
     "output_type": "execute_result"
    }
   ],
   "source": [
    "combined.head()"
   ]
  },
  {
   "cell_type": "markdown",
   "metadata": {},
   "source": [
    "## Séparer les data pour train et test"
   ]
  },
  {
   "cell_type": "code",
   "execution_count": 51,
   "metadata": {},
   "outputs": [],
   "source": [
    "normal_data = combined[combined['Normal/Attack'] == 0]\n",
    "attack_data = combined[combined['Normal/Attack'] == 1]\n",
    "\n",
    "# Prendre seulement 54584 exemples de 'Normal'\n",
    "normal_data = normal_data.sample(n=54584, random_state=42)\n",
    "\n",
    "# Concatenate les données 'Normal' et 'Attack' pour avoir un échantillon équilibré\n",
    "# 50% Normal, 50% Attack\n",
    "balanced_data = pd.concat([normal_data, attack_data])\n",
    "\n",
    "# Séparer le jeu de données en train et test (80% train, 20% test)\n",
    "train_data, test_data = train_test_split(balanced_data, test_size=0.2, stratify=balanced_data['Normal/Attack'], random_state=42)"
   ]
  },
  {
   "cell_type": "code",
   "execution_count": 52,
   "metadata": {},
   "outputs": [
    {
     "name": "stdout",
     "output_type": "stream",
     "text": [
      "Taille du train: 87364\n",
      "Taille du test: 21841\n",
      "\n",
      "Distribution dans le train:\n",
      "1.0    43697\n",
      "0.0    43667\n",
      "Name: Normal/Attack, dtype: int64\n",
      "\n",
      "Distribution dans le test:\n",
      "1.0    10924\n",
      "0.0    10917\n",
      "Name: Normal/Attack, dtype: int64\n"
     ]
    }
   ],
   "source": [
    "# Afficher les tailles des ensembles train et test\n",
    "print(f\"Taille du train: {train_data.shape[0]}\")\n",
    "print(f\"Taille du test: {test_data.shape[0]}\")\n",
    "\n",
    "# Afficher la distribution dans les deux ensembles\n",
    "print(\"\\nDistribution dans le train:\")\n",
    "print(train_data['Normal/Attack'].value_counts())\n",
    "\n",
    "print(\"\\nDistribution dans le test:\")\n",
    "print(test_data['Normal/Attack'].value_counts())"
   ]
  },
  {
   "cell_type": "code",
   "execution_count": 53,
   "metadata": {},
   "outputs": [
    {
     "data": {
      "image/png": "[encoded data removed]",
      "text/plain": [
       "<Figure size 640x480 with 1 Axes>"
      ]
     },
     "metadata": {},
     "output_type": "display_data"
    }
   ],
   "source": [
    "# Plotting target label distribution\n",
    "\n",
    "\n",
    "plt.figure()\n",
    "plt.title(\"Distribution\")\n",
    "train_data['Normal/Attack'].value_counts().plot(kind=\"bar\", color='b', label=\"train\")\n",
    "test_data['Normal/Attack'].value_counts().plot(kind=\"bar\", color='orange', label=\"test\")\n",
    "plt.xlabel(\"Label\")\n",
    "plt.ylabel(\"count\")\n",
    "plt.legend()\n",
    "plt.show()\n"
   ]
  },
  {
   "cell_type": "code",
   "execution_count": 54,
   "metadata": {},
   "outputs": [],
   "source": [
    "## Dataset pour le clustering\n",
    "# on n'a pas besoin d'avoir les mêmes nombres de 1 et 0\n",
    "\n",
    "# Séparer le jeu de données en train et test (80% train, 20% test)\n",
    "train_data_clust, test_data_clust = train_test_split(combined, test_size=0.2, stratify=combined['Normal/Attack'], random_state=42)"
   ]
  },
  {
   "cell_type": "code",
   "execution_count": 55,
   "metadata": {},
   "outputs": [
    {
     "data": {
      "image/png": "[encoded data removed]",
      "text/plain": [
       "<Figure size 640x480 with 1 Axes>"
      ]
     },
     "metadata": {},
     "output_type": "display_data"
    }
   ],
   "source": [
    "# Plotting target label distribution\n",
    "\n",
    "\n",
    "plt.figure()\n",
    "plt.title(\"Distribution pour le clustering\")\n",
    "train_data_clust['Normal/Attack'].value_counts().plot(kind=\"bar\", color='b', label=\"train\")\n",
    "test_data_clust['Normal/Attack'].value_counts().plot(kind=\"bar\", color='orange', label=\"test\")\n",
    "plt.xlabel(\"Label\")\n",
    "plt.ylabel(\"count\")\n",
    "plt.legend()\n",
    "plt.show()"
   ]
  },
  {
   "cell_type": "code",
   "execution_count": null,
   "metadata": {},
   "outputs": [],
   "source": []
  },
  {
   "cell_type": "markdown",
   "metadata": {},
   "source": [
    "## Sauver les données"
   ]
  },
  {
   "cell_type": "code",
   "execution_count": 56,
   "metadata": {},
   "outputs": [],
   "source": [
    "train_data_clust.to_csv('./train_data_clust.csv',sep=';', index=False)\n",
    "test_data_clust.to_csv('./test_data_clust.csv',sep=';', index=False)\n",
    "\n",
    "train_data.to_csv('./train_data.csv',sep=';', index=False)\n",
    "test_data.to_csv('./test_data.csv',sep=';', index=False)\n",
    "\n",
    "combined.to_csv('./combined.csv',sep=';', index=False)\n"
   ]
  },
  {
   "cell_type": "code",
   "execution_count": null,
   "metadata": {
    "scrolled": true
   },
   "outputs": [],
   "source": []
  },
  {
   "cell_type": "code",
   "execution_count": 57,
   "metadata": {},
   "outputs": [
    {
     "name": "stdout",
     "output_type": "stream",
     "text": [
      "1.4.3\n"
     ]
    }
   ],
   "source": [
    "print(pd.__version__)"
   ]
  },
  {
   "cell_type": "code",
   "execution_count": 58,
   "metadata": {},
   "outputs": [
    {
     "data": {
      "text/html": [
       "<div>\n",
       "<style scoped>\n",
       "    .dataframe tbody tr th:only-of-type {\n",
       "        vertical-align: middle;\n",
       "    }\n",
       "\n",
       "    .dataframe tbody tr th {\n",
       "        vertical-align: top;\n",
       "    }\n",
       "\n",
       "    .dataframe thead th {\n",
       "        text-align: right;\n",
       "    }\n",
       "</style>\n",
       "<table border=\"1\" class=\"dataframe\">\n",
       "  <thead>\n",
       "    <tr style=\"text-align: right;\">\n",
       "      <th></th>\n",
       "      <th>FIT101</th>\n",
       "      <th>LIT101</th>\n",
       "      <th>MV101</th>\n",
       "      <th>P101</th>\n",
       "      <th>P102</th>\n",
       "      <th>AIT201</th>\n",
       "      <th>AIT202</th>\n",
       "      <th>AIT203</th>\n",
       "      <th>FIT201</th>\n",
       "      <th>MV201</th>\n",
       "      <th>...</th>\n",
       "      <th>P501</th>\n",
       "      <th>P502</th>\n",
       "      <th>PIT501</th>\n",
       "      <th>PIT502</th>\n",
       "      <th>PIT503</th>\n",
       "      <th>FIT601</th>\n",
       "      <th>P601</th>\n",
       "      <th>P602</th>\n",
       "      <th>P603</th>\n",
       "      <th>Normal/Attack</th>\n",
       "    </tr>\n",
       "  </thead>\n",
       "  <tbody>\n",
       "    <tr>\n",
       "      <th>0</th>\n",
       "      <td>0.0</td>\n",
       "      <td>124.3135</td>\n",
       "      <td>1.0</td>\n",
       "      <td>1.0</td>\n",
       "      <td>1.0</td>\n",
       "      <td>251.9226</td>\n",
       "      <td>8.313446</td>\n",
       "      <td>312.7916</td>\n",
       "      <td>0.0</td>\n",
       "      <td>1.0</td>\n",
       "      <td>...</td>\n",
       "      <td>1.0</td>\n",
       "      <td>1.0</td>\n",
       "      <td>9.100231</td>\n",
       "      <td>0.0</td>\n",
       "      <td>3.3485</td>\n",
       "      <td>0.000256</td>\n",
       "      <td>1.0</td>\n",
       "      <td>1.0</td>\n",
       "      <td>1.0</td>\n",
       "      <td>0.0</td>\n",
       "    </tr>\n",
       "    <tr>\n",
       "      <th>1</th>\n",
       "      <td>0.0</td>\n",
       "      <td>124.3920</td>\n",
       "      <td>1.0</td>\n",
       "      <td>1.0</td>\n",
       "      <td>1.0</td>\n",
       "      <td>251.9226</td>\n",
       "      <td>8.313446</td>\n",
       "      <td>312.7916</td>\n",
       "      <td>0.0</td>\n",
       "      <td>1.0</td>\n",
       "      <td>...</td>\n",
       "      <td>1.0</td>\n",
       "      <td>1.0</td>\n",
       "      <td>9.100231</td>\n",
       "      <td>0.0</td>\n",
       "      <td>3.3485</td>\n",
       "      <td>0.000256</td>\n",
       "      <td>1.0</td>\n",
       "      <td>1.0</td>\n",
       "      <td>1.0</td>\n",
       "      <td>0.0</td>\n",
       "    </tr>\n",
       "    <tr>\n",
       "      <th>2</th>\n",
       "      <td>0.0</td>\n",
       "      <td>124.4705</td>\n",
       "      <td>1.0</td>\n",
       "      <td>1.0</td>\n",
       "      <td>1.0</td>\n",
       "      <td>251.9226</td>\n",
       "      <td>8.313446</td>\n",
       "      <td>312.7916</td>\n",
       "      <td>0.0</td>\n",
       "      <td>1.0</td>\n",
       "      <td>...</td>\n",
       "      <td>1.0</td>\n",
       "      <td>1.0</td>\n",
       "      <td>9.100231</td>\n",
       "      <td>0.0</td>\n",
       "      <td>3.3485</td>\n",
       "      <td>0.000256</td>\n",
       "      <td>1.0</td>\n",
       "      <td>1.0</td>\n",
       "      <td>1.0</td>\n",
       "      <td>0.0</td>\n",
       "    </tr>\n",
       "    <tr>\n",
       "      <th>3</th>\n",
       "      <td>0.0</td>\n",
       "      <td>124.6668</td>\n",
       "      <td>1.0</td>\n",
       "      <td>1.0</td>\n",
       "      <td>1.0</td>\n",
       "      <td>251.9226</td>\n",
       "      <td>8.313446</td>\n",
       "      <td>312.7916</td>\n",
       "      <td>0.0</td>\n",
       "      <td>1.0</td>\n",
       "      <td>...</td>\n",
       "      <td>1.0</td>\n",
       "      <td>1.0</td>\n",
       "      <td>9.100231</td>\n",
       "      <td>0.0</td>\n",
       "      <td>3.3485</td>\n",
       "      <td>0.000256</td>\n",
       "      <td>1.0</td>\n",
       "      <td>1.0</td>\n",
       "      <td>1.0</td>\n",
       "      <td>0.0</td>\n",
       "    </tr>\n",
       "    <tr>\n",
       "      <th>4</th>\n",
       "      <td>0.0</td>\n",
       "      <td>124.5098</td>\n",
       "      <td>1.0</td>\n",
       "      <td>1.0</td>\n",
       "      <td>1.0</td>\n",
       "      <td>251.9226</td>\n",
       "      <td>8.313446</td>\n",
       "      <td>312.7916</td>\n",
       "      <td>0.0</td>\n",
       "      <td>1.0</td>\n",
       "      <td>...</td>\n",
       "      <td>1.0</td>\n",
       "      <td>1.0</td>\n",
       "      <td>9.100231</td>\n",
       "      <td>0.0</td>\n",
       "      <td>3.3485</td>\n",
       "      <td>0.000256</td>\n",
       "      <td>1.0</td>\n",
       "      <td>1.0</td>\n",
       "      <td>1.0</td>\n",
       "      <td>0.0</td>\n",
       "    </tr>\n",
       "  </tbody>\n",
       "</table>\n",
       "<p>5 rows × 52 columns</p>\n",
       "</div>"
      ],
      "text/plain": [
       "   FIT101    LIT101  MV101  P101  P102    AIT201    AIT202    AIT203  FIT201  \\\n",
       "0     0.0  124.3135    1.0   1.0   1.0  251.9226  8.313446  312.7916     0.0   \n",
       "1     0.0  124.3920    1.0   1.0   1.0  251.9226  8.313446  312.7916     0.0   \n",
       "2     0.0  124.4705    1.0   1.0   1.0  251.9226  8.313446  312.7916     0.0   \n",
       "3     0.0  124.6668    1.0   1.0   1.0  251.9226  8.313446  312.7916     0.0   \n",
       "4     0.0  124.5098    1.0   1.0   1.0  251.9226  8.313446  312.7916     0.0   \n",
       "\n",
       "   MV201  ...  P501  P502    PIT501  PIT502  PIT503    FIT601  P601  P602  \\\n",
       "0    1.0  ...   1.0   1.0  9.100231     0.0  3.3485  0.000256   1.0   1.0   \n",
       "1    1.0  ...   1.0   1.0  9.100231     0.0  3.3485  0.000256   1.0   1.0   \n",
       "2    1.0  ...   1.0   1.0  9.100231     0.0  3.3485  0.000256   1.0   1.0   \n",
       "3    1.0  ...   1.0   1.0  9.100231     0.0  3.3485  0.000256   1.0   1.0   \n",
       "4    1.0  ...   1.0   1.0  9.100231     0.0  3.3485  0.000256   1.0   1.0   \n",
       "\n",
       "   P603  Normal/Attack  \n",
       "0   1.0            0.0  \n",
       "1   1.0            0.0  \n",
       "2   1.0            0.0  \n",
       "3   1.0            0.0  \n",
       "4   1.0            0.0  \n",
       "\n",
       "[5 rows x 52 columns]"
      ]
     },
     "execution_count": 58,
     "metadata": {},
     "output_type": "execute_result"
    }
   ],
   "source": [
    "# pour les test sur cartes\n",
    "\n",
    "#Labelisation\n",
    "combined_2['Normal/Attack'] = combined_2['Normal/Attack'].replace({'Normal': 0, 'Attack': 1})\n",
    "combined_2 = combined_2.apply(lambda col: col.str.replace(',', '.') if col.dtype == 'object' else col)\n",
    "combined_2 = combined_2.astype(float)\n",
    "combined_2.head()"
   ]
  },
  {
   "cell_type": "code",
   "execution_count": 59,
   "metadata": {},
   "outputs": [
    {
     "data": {
      "text/html": [
       "<div>\n",
       "<style scoped>\n",
       "    .dataframe tbody tr th:only-of-type {\n",
       "        vertical-align: middle;\n",
       "    }\n",
       "\n",
       "    .dataframe tbody tr th {\n",
       "        vertical-align: top;\n",
       "    }\n",
       "\n",
       "    .dataframe thead th {\n",
       "        text-align: right;\n",
       "    }\n",
       "</style>\n",
       "<table border=\"1\" class=\"dataframe\">\n",
       "  <thead>\n",
       "    <tr style=\"text-align: right;\">\n",
       "      <th></th>\n",
       "      <th>FIT101</th>\n",
       "      <th>LIT101</th>\n",
       "      <th>MV101</th>\n",
       "      <th>P101</th>\n",
       "      <th>P102</th>\n",
       "      <th>AIT201</th>\n",
       "      <th>AIT202</th>\n",
       "      <th>AIT203</th>\n",
       "      <th>FIT201</th>\n",
       "      <th>MV201</th>\n",
       "      <th>...</th>\n",
       "      <th>P501</th>\n",
       "      <th>P502</th>\n",
       "      <th>PIT501</th>\n",
       "      <th>PIT502</th>\n",
       "      <th>PIT503</th>\n",
       "      <th>FIT601</th>\n",
       "      <th>P601</th>\n",
       "      <th>P602</th>\n",
       "      <th>P603</th>\n",
       "      <th>Normal/Attack</th>\n",
       "    </tr>\n",
       "  </thead>\n",
       "  <tbody>\n",
       "    <tr>\n",
       "      <th>744070</th>\n",
       "      <td>0.0</td>\n",
       "      <td>813.7489</td>\n",
       "      <td>1.0</td>\n",
       "      <td>1.0</td>\n",
       "      <td>1.0</td>\n",
       "      <td>192.9313</td>\n",
       "      <td>8.581646</td>\n",
       "      <td>355.2935</td>\n",
       "      <td>0.0</td>\n",
       "      <td>1.0</td>\n",
       "      <td>...</td>\n",
       "      <td>1.0</td>\n",
       "      <td>1.0</td>\n",
       "      <td>10.013460</td>\n",
       "      <td>0.0</td>\n",
       "      <td>3.652910</td>\n",
       "      <td>0.0</td>\n",
       "      <td>1.0</td>\n",
       "      <td>1.0</td>\n",
       "      <td>1.0</td>\n",
       "      <td>1.0</td>\n",
       "    </tr>\n",
       "    <tr>\n",
       "      <th>734557</th>\n",
       "      <td>0.0</td>\n",
       "      <td>813.8275</td>\n",
       "      <td>1.0</td>\n",
       "      <td>1.0</td>\n",
       "      <td>1.0</td>\n",
       "      <td>192.9633</td>\n",
       "      <td>8.605999</td>\n",
       "      <td>338.0415</td>\n",
       "      <td>0.0</td>\n",
       "      <td>1.0</td>\n",
       "      <td>...</td>\n",
       "      <td>1.0</td>\n",
       "      <td>1.0</td>\n",
       "      <td>10.189700</td>\n",
       "      <td>0.0</td>\n",
       "      <td>3.797103</td>\n",
       "      <td>0.0</td>\n",
       "      <td>1.0</td>\n",
       "      <td>1.0</td>\n",
       "      <td>1.0</td>\n",
       "      <td>1.0</td>\n",
       "    </tr>\n",
       "    <tr>\n",
       "      <th>742034</th>\n",
       "      <td>0.0</td>\n",
       "      <td>814.2200</td>\n",
       "      <td>1.0</td>\n",
       "      <td>1.0</td>\n",
       "      <td>1.0</td>\n",
       "      <td>192.8993</td>\n",
       "      <td>8.584850</td>\n",
       "      <td>352.2430</td>\n",
       "      <td>0.0</td>\n",
       "      <td>1.0</td>\n",
       "      <td>...</td>\n",
       "      <td>1.0</td>\n",
       "      <td>1.0</td>\n",
       "      <td>9.981415</td>\n",
       "      <td>0.0</td>\n",
       "      <td>3.733017</td>\n",
       "      <td>0.0</td>\n",
       "      <td>1.0</td>\n",
       "      <td>1.0</td>\n",
       "      <td>1.0</td>\n",
       "      <td>1.0</td>\n",
       "    </tr>\n",
       "    <tr>\n",
       "      <th>756957</th>\n",
       "      <td>0.0</td>\n",
       "      <td>812.9639</td>\n",
       "      <td>1.0</td>\n",
       "      <td>1.0</td>\n",
       "      <td>1.0</td>\n",
       "      <td>197.2892</td>\n",
       "      <td>8.524929</td>\n",
       "      <td>369.2130</td>\n",
       "      <td>0.0</td>\n",
       "      <td>1.0</td>\n",
       "      <td>...</td>\n",
       "      <td>1.0</td>\n",
       "      <td>1.0</td>\n",
       "      <td>9.628942</td>\n",
       "      <td>0.0</td>\n",
       "      <td>3.316457</td>\n",
       "      <td>0.0</td>\n",
       "      <td>1.0</td>\n",
       "      <td>1.0</td>\n",
       "      <td>1.0</td>\n",
       "      <td>1.0</td>\n",
       "    </tr>\n",
       "    <tr>\n",
       "      <th>736987</th>\n",
       "      <td>0.0</td>\n",
       "      <td>814.0237</td>\n",
       "      <td>1.0</td>\n",
       "      <td>1.0</td>\n",
       "      <td>1.0</td>\n",
       "      <td>193.2517</td>\n",
       "      <td>8.600231</td>\n",
       "      <td>343.2453</td>\n",
       "      <td>0.0</td>\n",
       "      <td>1.0</td>\n",
       "      <td>...</td>\n",
       "      <td>1.0</td>\n",
       "      <td>1.0</td>\n",
       "      <td>10.061520</td>\n",
       "      <td>0.0</td>\n",
       "      <td>3.829146</td>\n",
       "      <td>0.0</td>\n",
       "      <td>1.0</td>\n",
       "      <td>1.0</td>\n",
       "      <td>1.0</td>\n",
       "      <td>1.0</td>\n",
       "    </tr>\n",
       "  </tbody>\n",
       "</table>\n",
       "<p>5 rows × 52 columns</p>\n",
       "</div>"
      ],
      "text/plain": [
       "        FIT101    LIT101  MV101  P101  P102    AIT201    AIT202    AIT203  \\\n",
       "744070     0.0  813.7489    1.0   1.0   1.0  192.9313  8.581646  355.2935   \n",
       "734557     0.0  813.8275    1.0   1.0   1.0  192.9633  8.605999  338.0415   \n",
       "742034     0.0  814.2200    1.0   1.0   1.0  192.8993  8.584850  352.2430   \n",
       "756957     0.0  812.9639    1.0   1.0   1.0  197.2892  8.524929  369.2130   \n",
       "736987     0.0  814.0237    1.0   1.0   1.0  193.2517  8.600231  343.2453   \n",
       "\n",
       "        FIT201  MV201  ...  P501  P502     PIT501  PIT502    PIT503  FIT601  \\\n",
       "744070     0.0    1.0  ...   1.0   1.0  10.013460     0.0  3.652910     0.0   \n",
       "734557     0.0    1.0  ...   1.0   1.0  10.189700     0.0  3.797103     0.0   \n",
       "742034     0.0    1.0  ...   1.0   1.0   9.981415     0.0  3.733017     0.0   \n",
       "756957     0.0    1.0  ...   1.0   1.0   9.628942     0.0  3.316457     0.0   \n",
       "736987     0.0    1.0  ...   1.0   1.0  10.061520     0.0  3.829146     0.0   \n",
       "\n",
       "        P601  P602  P603  Normal/Attack  \n",
       "744070   1.0   1.0   1.0            1.0  \n",
       "734557   1.0   1.0   1.0            1.0  \n",
       "742034   1.0   1.0   1.0            1.0  \n",
       "756957   1.0   1.0   1.0            1.0  \n",
       "736987   1.0   1.0   1.0            1.0  \n",
       "\n",
       "[5 rows x 52 columns]"
      ]
     },
     "execution_count": 59,
     "metadata": {},
     "output_type": "execute_result"
    }
   ],
   "source": [
    "normal_2 = combined_2[combined_2['Normal/Attack'] == 0.0].sample(n=10, random_state=1)\n",
    "attack_2 = combined_2[combined_2['Normal/Attack'] == 1.0].sample(n=10, random_state=1)\n",
    "attack_2.head()"
   ]
  },
  {
   "cell_type": "markdown",
   "metadata": {},
   "source": [
    "## Transformation en liste\n",
    "Cette partie est utilisé pour récupérer des features pour du test sur carte."
   ]
  },
  {
   "cell_type": "code",
   "execution_count": 60,
   "metadata": {},
   "outputs": [
    {
     "name": "stdout",
     "output_type": "stream",
     "text": [
      "Liste 'Normal/Attack': [0.0, 0.0, 0.0, 0.0, 0.0, 0.0, 0.0, 0.0, 0.0, 0.0]\n",
      "Liste des autres colonnes: [[2.535311, 511.4634, 2.0, 2.0, 1.0, 265.5089, 8.347411, 329.0695, 2.441803, 2.0, 1.0, 1.0, 2.0, 1.0, 2.0, 1.0, 19.68756, 2.218749, 921.4785, 1.0, 2.0, 1.0, 1.0, 1.0, 2.0, 148.8128, 158.2158, 1.738891, 889.5411, 1.0, 2.0, 1.0, 1.0, 2.0, 7.88535, 145.5012, 271.8213, 13.41964, 1.75314, 1.332266, 0.7307877, 0.3045831, 2.0, 1.0, 246.6675, 1.169384, 186.0581, 0.0, 1.0, 1.0, 1.0], [2.649329, 496.2726, 2.0, 2.0, 1.0, 266.4701, 8.347411, 336.324, 2.4559, 2.0, 1.0, 1.0, 2.0, 1.0, 2.0, 1.0, 20.13573, 2.212984, 838.0063, 1.0, 2.0, 1.0, 1.0, 1.0, 2.0, 148.8032, 172.648, 1.69737, 892.6942, 1.0, 2.0, 1.0, 1.0, 2.0, 7.874135, 164.7783, 265.7011, 11.07408, 1.706998, 1.259255, 0.7435906, 0.3104122, 2.0, 1.0, 254.8705, 1.169384, 193.7484, 0.0, 1.0, 1.0, 1.0], [2.505845, 797.7731, 2.0, 1.0, 1.0, 258.1389, 8.422071, 324.4553, 0.0, 1.0, 1.0, 1.0, 1.0, 1.0, 1.0, 1.0, 2.288879, 0.0, 1010.078, 1.0, 1.0, 1.0, 1.0, 1.0, 1.0, 148.8176, 182.9018, 1.69801, 802.4866, 1.0, 2.0, 1.0, 1.0, 2.0, 7.843694, 173.3145, 257.9787, 10.57421, 1.709049, 1.266556, 0.7438467, 0.3102841, 2.0, 1.0, 254.9186, 1.057252, 193.8926, 6.41e-05, 1.0, 1.0, 1.0], [2.572463, 509.9326, 2.0, 2.0, 1.0, 264.7398, 8.371443, 330.0436, 2.445904, 2.0, 1.0, 1.0, 2.0, 1.0, 2.0, 1.0, 19.73878, 2.213881, 912.6266, 1.0, 2.0, 1.0, 1.0, 1.0, 2.0, 148.8032, 161.8816, 1.722231, 882.0815, 1.0, 2.0, 1.0, 1.0, 2.0, 7.888555, 147.7314, 270.3794, 12.11228, 1.730838, 1.272576, 0.7347566, 0.3040707, 2.0, 1.0, 250.9933, 1.137347, 189.9193, 0.0, 1.0, 1.0, 1.0], [0.0, 810.4124, 1.0, 1.0, 1.0, 266.4701, 8.42111, 325.0961, 0.0, 1.0, 1.0, 1.0, 1.0, 1.0, 1.0, 1.0, 9.763749, 2.213624, 1005.471, 1.0, 1.0, 1.0, 2.0, 1.0, 2.0, 148.808, 172.1353, 1.695063, 788.8362, 1.0, 2.0, 1.0, 1.0, 2.0, 7.874455, 164.8808, 268.585, 11.18944, 1.702897, 1.254515, 0.7442307, 0.3100919, 2.0, 1.0, 254.7904, 1.441707, 193.6683, 0.0001281517, 1.0, 1.0, 1.0], [0.0, 748.3146, 1.0, 1.0, 1.0, 263.4901, 8.448347, 320.8408, 0.0, 1.0, 1.0, 1.0, 1.0, 1.0, 1.0, 1.0, 19.73558, 2.215802, 822.2251, 1.0, 2.0, 1.0, 1.0, 1.0, 2.0, 148.808, 152.9095, 1.717746, 781.4919, 1.0, 2.0, 1.0, 1.0, 2.0, 7.87766, 142.2712, 263.8105, 12.34299, 1.728916, 1.277828, 0.7353967, 0.3084265, 2.0, 1.0, 249.3431, 1.665972, 188.1569, 0.000128152, 1.0, 1.0, 1.0], [2.608013, 521.1589, 2.0, 2.0, 1.0, 260.4781, 8.412779, 330.4025, 2.443725, 2.0, 1.0, 1.0, 2.0, 1.0, 2.0, 1.0, 19.89884, 2.208756, 953.2011, 1.0, 2.0, 1.0, 1.0, 1.0, 2.0, 148.808, 152.8582, 1.710441, 918.1107, 1.0, 2.0, 1.0, 1.0, 2.0, 7.86324, 143.9887, 265.7011, 11.88157, 1.717893, 1.277956, 0.7379573, 0.3082983, 2.0, 1.0, 252.8839, 1.505783, 191.1048, 0.000128152, 1.0, 1.0, 1.0], [2.513532, 493.5249, 2.0, 2.0, 1.0, 259.8052, 8.347091, 476.0318, 2.455515, 2.0, 1.0, 1.0, 2.0, 1.0, 1.0, 1.0, 20.0429, 2.207091, 828.7538, 1.0, 2.0, 1.0, 1.0, 1.0, 2.0, 0.0, 187.1315, 1.705315, 993.1299, 1.0, 2.0, 1.0, 1.0, 2.0, 7.842412, 173.5196, 272.8147, 11.68931, 1.71456, 1.282183, 0.7435906, 0.3084265, 2.0, 1.0, 255.0788, 1.009195, 194.165, 6.41e-05, 1.0, 1.0, 1.0], [0.0, 812.3751, 1.0, 1.0, 1.0, 266.8226, 8.444181, 323.4043, 0.0, 1.0, 1.0, 1.0, 1.0, 1.0, 1.0, 1.0, 20.18695, 2.212984, 841.0504, 1.0, 2.0, 1.0, 1.0, 1.0, 2.0, 148.8032, 167.4699, 1.6925, 807.0239, 1.0, 2.0, 1.0, 1.0, 2.0, 7.897206, 156.1907, 268.1364, 10.92028, 1.701743, 1.261688, 0.7432065, 0.3107325, 2.0, 1.0, 255.5595, 1.025214, 194.1489, 6.41e-05, 1.0, 1.0, 1.0], [2.472216, 663.2931, 2.0, 1.0, 1.0, 263.2979, 8.439695, 316.9187, 0.0, 1.0, 1.0, 1.0, 1.0, 1.0, 1.0, 1.0, 2.170434, 0.0, 1013.282, 1.0, 1.0, 1.0, 1.0, 1.0, 1.0, 148.8032, 156.0625, 1.723897, 901.1536, 1.0, 2.0, 1.0, 1.0, 2.0, 7.890157, 144.3989, 265.1884, 12.41989, 1.732761, 1.293326, 0.7347566, 0.3075297, 2.0, 1.0, 248.7503, 1.08929, 187.7563, 6.41e-05, 1.0, 1.0, 1.0]]\n"
     ]
    }
   ],
   "source": [
    "# Liste des valeurs de la colonne 'Normal/Attack'\n",
    "normal_attack_list = normal_2['Normal/Attack'].tolist()\n",
    "\n",
    "# Liste des autres colonnes\n",
    "other_columns_list = normal_2.drop(columns=['Normal/Attack']).values.tolist()\n",
    "\n",
    "# Affichage des listes\n",
    "print(\"Liste 'Normal/Attack':\", normal_attack_list)\n",
    "print(\"Liste des autres colonnes:\", other_columns_list)"
   ]
  },
  {
   "cell_type": "code",
   "execution_count": 61,
   "metadata": {},
   "outputs": [
    {
     "name": "stdout",
     "output_type": "stream",
     "text": [
      "Liste 'Normal/Attack': [1.0, 1.0, 1.0, 1.0, 1.0, 1.0, 1.0, 1.0, 1.0, 1.0]\n",
      "Liste des autres colonnes: [[0.0, 813.7489, 1.0, 1.0, 1.0, 192.9313, 8.581646, 355.2935, 0.0, 1.0, 1.0, 1.0, 1.0, 1.0, 1.0, 1.0, 2.010372, 0.0, 1014.724, 1.0, 1.0, 1.0, 2.0, 1.0, 1.0, 148.808, 332.2738, 0.0, 247.5135, 1.0, 1.0, 1.0, 1.0, 1.0, 7.509485, 222.9428, 268.1684, 15.49603, 0.000897206, 0.001152812, 0.000896201, 0.0, 1.0, 1.0, 10.01346, 0.0, 3.65291, 0.0, 1.0, 1.0, 1.0], [0.0, 813.8275, 1.0, 1.0, 1.0, 192.9633, 8.605999, 338.0415, 0.0, 1.0, 1.0, 1.0, 1.0, 1.0, 1.0, 1.0, 2.000768, 0.0, 1015.565, 1.0, 1.0, 1.0, 2.0, 1.0, 1.0, 148.8032, 325.6345, 0.0, 248.1287, 1.0, 1.0, 1.0, 1.0, 1.0, 7.599526, 247.3212, 267.1751, 15.34222, 0.000897206, 0.001152812, 0.000768172, 0.0, 1.0, 1.0, 10.1897, 0.0, 3.797103, 0.0, 1.0, 1.0, 1.0], [0.0, 814.22, 1.0, 1.0, 1.0, 192.8993, 8.58485, 352.243, 0.0, 1.0, 1.0, 1.0, 1.0, 1.0, 1.0, 1.0, 2.010372, 0.0, 1015.725, 1.0, 1.0, 1.0, 2.0, 1.0, 1.0, 148.808, 331.4022, 0.0, 248.0902, 1.0, 1.0, 1.0, 1.0, 1.0, 7.526468, 229.9923, 268.0723, 15.57293, 0.000897206, 0.001152812, 0.000896201, 0.0, 1.0, 1.0, 9.981415, 0.0, 3.733017, 0.0, 1.0, 1.0, 1.0], [0.0, 812.9639, 1.0, 1.0, 1.0, 197.2892, 8.524929, 369.213, 0.0, 1.0, 1.0, 1.0, 1.0, 1.0, 1.0, 1.0, 2.035982, 0.0, 1016.046, 1.0, 1.0, 1.0, 2.0, 1.0, 1.0, 148.808, 326.4547, 0.0, 248.3209, 1.0, 1.0, 1.0, 1.0, 1.0, 7.443476, 187.8236, 269.8987, 15.61138, 0.001025378, 0.000896631, 0.001152258, 0.0, 1.0, 1.0, 9.628942, 0.0, 3.316457, 0.0, 1.0, 1.0, 1.0], [0.0, 814.0237, 1.0, 1.0, 1.0, 193.2517, 8.600231, 343.2453, 0.0, 1.0, 1.0, 1.0, 1.0, 1.0, 1.0, 1.0, 2.000768, 0.0, 1014.844, 1.0, 1.0, 1.0, 2.0, 1.0, 1.0, 148.808, 327.557, 0.0, 247.0136, 1.0, 1.0, 1.0, 1.0, 1.0, 7.575173, 244.3476, 267.3353, 15.41912, 0.000897206, 0.001152812, 0.000896201, 0.0, 1.0, 1.0, 10.06152, 0.0, 3.829146, 0.0, 1.0, 1.0, 1.0], [0.0, 551.0302, 1.0, 2.0, 2.0, 211.6124, 8.446104, 330.5819, 2.805241, 2.0, 1.0, 1.0, 2.0, 1.0, 2.0, 1.0, 19.5243, 2.207347, 801.0, 1.0, 2.0, 1.0, 1.0, 1.0, 2.0, 148.808, 149.3207, 1.732227, 850.7819, 1.0, 2.0, 1.0, 1.0, 2.0, 7.785696, 142.9633, 267.4635, 15.88054, 1.740836, 1.306776, 0.727843, 0.3068891, 2.0, 1.0, 244.5687, 1.585878, 184.0073, 0.000128152, 1.0, 1.0, 1.0], [2.541075, 514.4859, 2.0, 2.0, 1.0, 169.1233, 8.621059, 305.6396, 2.461282, 2.0, 1.0, 1.0, 2.0, 1.0, 2.0, 1.0, 20.40463, 2.196842, 490.3863, 1.0, 2.0, 1.0, 1.0, 1.0, 2.0, 148.8032, 144.8347, 1.710313, 934.3758, 1.0, 2.0, 1.0, 1.0, 2.0, 7.750449, 138.708, 271.1805, 16.38041, 1.716611, 1.282439, 0.7347566, 0.3106043, 2.0, 1.0, 249.0227, 0.9291, 187.2437, 0.0, 1.0, 1.0, 1.0], [0.0, 813.5919, 1.0, 1.0, 1.0, 192.9313, 8.593502, 348.9874, 0.0, 1.0, 1.0, 1.0, 1.0, 1.0, 1.0, 1.0, 2.010372, 0.0, 1016.166, 1.0, 1.0, 1.0, 2.0, 1.0, 1.0, 148.808, 330.0179, 0.0, 248.1287, 1.0, 1.0, 1.0, 1.0, 1.0, 7.54281, 236.8111, 267.6878, 15.53448, 0.000897206, 0.001152812, 0.000896201, 0.0, 1.0, 1.0, 10.02948, 0.0, 3.781082, 0.0, 1.0, 1.0, 1.0], [2.530506, 575.0137, 2.0, 1.0, 1.0, 188.4132, 8.638042, 307.998, 0.0, 1.0, 1.0, 1.0, 1.0, 1.0, 1.0, 1.0, 2.019976, 0.0, 1009.717, 1.0, 1.0, 1.0, 1.0, 1.0, 1.0, 148.808, 147.8339, 1.716464, 905.0372, 1.0, 2.0, 1.0, 1.0, 2.0, 7.7732, 141.7073, 264.7398, 14.76544, 1.721225, 1.311772, 0.7329642, 0.3082983, 2.0, 1.0, 248.4139, 0.7849293, 187.0354, 0.0, 1.0, 1.0, 1.0], [0.0, 813.4349, 1.0, 1.0, 1.0, 188.5094, 8.622021, 322.7378, 0.0, 1.0, 1.0, 1.0, 1.0, 1.0, 1.0, 1.0, 1.872719, 0.0, 1015.365, 1.0, 1.0, 1.0, 2.0, 1.0, 1.0, 148.8032, 259.7539, 0.0, 247.0905, 1.0, 1.0, 1.0, 1.0, 1.0, 7.680915, 219.636, 266.3099, 14.9577, 0.000769034, 0.000768541, 0.000512115, 0.0, 1.0, 1.0, 10.30185, 0.0, 3.941297, 0.0, 1.0, 1.0, 1.0]]\n"
     ]
    }
   ],
   "source": [
    "# Liste des valeurs de la colonne 'Normal/Attack'\n",
    "normal_attack_list = attack_2['Normal/Attack'].tolist()\n",
    "\n",
    "# Liste des autres colonnes\n",
    "other_columns_list = attack_2.drop(columns=['Normal/Attack']).values.tolist()\n",
    "\n",
    "# Affichage des listes\n",
    "print(\"Liste 'Normal/Attack':\", normal_attack_list)\n",
    "print(\"Liste des autres colonnes:\", other_columns_list)"
   ]
  },
  {
   "cell_type": "code",
   "execution_count": null,
   "metadata": {},
   "outputs": [],
   "source": []
  }
 ],
 "metadata": {
  "kernelspec": {
   "display_name": "Python 3.8.10 (mypython3_8_10)",
   "language": "python",
   "name": "mypython3_8_10"
  },
  "language_info": {
   "codemirror_mode": {
    "name": "ipython",
    "version": 3
   },
   "file_extension": ".py",
   "mimetype": "text/x-python",
   "name": "python",
   "nbconvert_exporter": "python",
   "pygments_lexer": "ipython3",
   "version": "3.12.7"
  }
 },
 "nbformat": 4,
 "nbformat_minor": 4
}
